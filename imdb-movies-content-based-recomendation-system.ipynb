{
 "cells": [
  {
   "cell_type": "markdown",
   "id": "b6eba693",
   "metadata": {
    "papermill": {
     "duration": 0.020266,
     "end_time": "2022-06-17T03:46:08.589542",
     "exception": false,
     "start_time": "2022-06-17T03:46:08.569276",
     "status": "completed"
    },
    "tags": []
   },
   "source": [
    "## Content Based Recomendation System"
   ]
  },
  {
   "cell_type": "markdown",
   "id": "a4c80901",
   "metadata": {
    "papermill": {
     "duration": 0.018334,
     "end_time": "2022-06-17T03:46:08.626654",
     "exception": false,
     "start_time": "2022-06-17T03:46:08.608320",
     "status": "completed"
    },
    "tags": []
   },
   "source": [
    "## Libraries"
   ]
  },
  {
   "cell_type": "code",
   "execution_count": 1,
   "id": "cd247ed2",
   "metadata": {
    "execution": {
     "iopub.execute_input": "2022-06-17T03:46:08.667032Z",
     "iopub.status.busy": "2022-06-17T03:46:08.666429Z",
     "iopub.status.idle": "2022-06-17T03:46:11.091292Z",
     "shell.execute_reply": "2022-06-17T03:46:11.090198Z"
    },
    "papermill": {
     "duration": 2.447716,
     "end_time": "2022-06-17T03:46:11.093874",
     "exception": false,
     "start_time": "2022-06-17T03:46:08.646158",
     "status": "completed"
    },
    "tags": []
   },
   "outputs": [],
   "source": [
    "import pandas as pd\n",
    "import numpy as np\n",
    "import matplotlib.pyplot as plt\n",
    "import seaborn as sns\n",
    "import plotly.express as px\n",
    "import plotly.graph_objects as go\n",
    "from tqdm import tqdm\n",
    "import warnings\n",
    "\n",
    "plt.style.use(\"fivethirtyeight\")\n",
    "warnings.filterwarnings(\"ignore\")"
   ]
  },
  {
   "cell_type": "markdown",
   "id": "370e80ca",
   "metadata": {
    "papermill": {
     "duration": 0.018127,
     "end_time": "2022-06-17T03:46:11.130876",
     "exception": false,
     "start_time": "2022-06-17T03:46:11.112749",
     "status": "completed"
    },
    "tags": []
   },
   "source": [
    "## Loading Dataset"
   ]
  },
  {
   "cell_type": "code",
   "execution_count": 2,
   "id": "e5c8abb0",
   "metadata": {
    "execution": {
     "iopub.execute_input": "2022-06-17T03:46:11.170288Z",
     "iopub.status.busy": "2022-06-17T03:46:11.169886Z",
     "iopub.status.idle": "2022-06-17T03:46:16.841792Z",
     "shell.execute_reply": "2022-06-17T03:46:16.840937Z"
    },
    "papermill": {
     "duration": 5.694354,
     "end_time": "2022-06-17T03:46:16.844118",
     "exception": false,
     "start_time": "2022-06-17T03:46:11.149764",
     "status": "completed"
    },
    "tags": []
   },
   "outputs": [],
   "source": [
    "movies_md = pd.read_csv(\"../input/the-movies-dataset/movies_metadata.csv\")\n",
    "movies_keywords = pd.read_csv(\"../input/the-movies-dataset/keywords.csv\")\n",
    "movies_credits = pd.read_csv(\"../input/the-movies-dataset/credits.csv\")"
   ]
  },
  {
   "cell_type": "markdown",
   "id": "8a3c9912",
   "metadata": {
    "papermill": {
     "duration": 0.018231,
     "end_time": "2022-06-17T03:46:16.881016",
     "exception": false,
     "start_time": "2022-06-17T03:46:16.862785",
     "status": "completed"
    },
    "tags": []
   },
   "source": [
    "## RS Designing"
   ]
  },
  {
   "cell_type": "code",
   "execution_count": 3,
   "id": "dc2d96ba",
   "metadata": {
    "execution": {
     "iopub.execute_input": "2022-06-17T03:46:16.919583Z",
     "iopub.status.busy": "2022-06-17T03:46:16.919197Z",
     "iopub.status.idle": "2022-06-17T03:46:16.961021Z",
     "shell.execute_reply": "2022-06-17T03:46:16.960029Z"
    },
    "papermill": {
     "duration": 0.064107,
     "end_time": "2022-06-17T03:46:16.963586",
     "exception": false,
     "start_time": "2022-06-17T03:46:16.899479",
     "status": "completed"
    },
    "tags": []
   },
   "outputs": [
    {
     "data": {
      "text/html": [
       "<div>\n",
       "<style scoped>\n",
       "    .dataframe tbody tr th:only-of-type {\n",
       "        vertical-align: middle;\n",
       "    }\n",
       "\n",
       "    .dataframe tbody tr th {\n",
       "        vertical-align: top;\n",
       "    }\n",
       "\n",
       "    .dataframe thead th {\n",
       "        text-align: right;\n",
       "    }\n",
       "</style>\n",
       "<table border=\"1\" class=\"dataframe\">\n",
       "  <thead>\n",
       "    <tr style=\"text-align: right;\">\n",
       "      <th></th>\n",
       "      <th>adult</th>\n",
       "      <th>belongs_to_collection</th>\n",
       "      <th>budget</th>\n",
       "      <th>genres</th>\n",
       "      <th>homepage</th>\n",
       "      <th>id</th>\n",
       "      <th>imdb_id</th>\n",
       "      <th>original_language</th>\n",
       "      <th>original_title</th>\n",
       "      <th>overview</th>\n",
       "      <th>...</th>\n",
       "      <th>release_date</th>\n",
       "      <th>revenue</th>\n",
       "      <th>runtime</th>\n",
       "      <th>spoken_languages</th>\n",
       "      <th>status</th>\n",
       "      <th>tagline</th>\n",
       "      <th>title</th>\n",
       "      <th>video</th>\n",
       "      <th>vote_average</th>\n",
       "      <th>vote_count</th>\n",
       "    </tr>\n",
       "  </thead>\n",
       "  <tbody>\n",
       "    <tr>\n",
       "      <th>0</th>\n",
       "      <td>False</td>\n",
       "      <td>{'id': 10194, 'name': 'Toy Story Collection', ...</td>\n",
       "      <td>30000000</td>\n",
       "      <td>[{'id': 16, 'name': 'Animation'}, {'id': 35, '...</td>\n",
       "      <td>http://toystory.disney.com/toy-story</td>\n",
       "      <td>862</td>\n",
       "      <td>tt0114709</td>\n",
       "      <td>en</td>\n",
       "      <td>Toy Story</td>\n",
       "      <td>Led by Woody, Andy's toys live happily in his ...</td>\n",
       "      <td>...</td>\n",
       "      <td>1995-10-30</td>\n",
       "      <td>373554033.0</td>\n",
       "      <td>81.0</td>\n",
       "      <td>[{'iso_639_1': 'en', 'name': 'English'}]</td>\n",
       "      <td>Released</td>\n",
       "      <td>NaN</td>\n",
       "      <td>Toy Story</td>\n",
       "      <td>False</td>\n",
       "      <td>7.7</td>\n",
       "      <td>5415.0</td>\n",
       "    </tr>\n",
       "    <tr>\n",
       "      <th>1</th>\n",
       "      <td>False</td>\n",
       "      <td>NaN</td>\n",
       "      <td>65000000</td>\n",
       "      <td>[{'id': 12, 'name': 'Adventure'}, {'id': 14, '...</td>\n",
       "      <td>NaN</td>\n",
       "      <td>8844</td>\n",
       "      <td>tt0113497</td>\n",
       "      <td>en</td>\n",
       "      <td>Jumanji</td>\n",
       "      <td>When siblings Judy and Peter discover an encha...</td>\n",
       "      <td>...</td>\n",
       "      <td>1995-12-15</td>\n",
       "      <td>262797249.0</td>\n",
       "      <td>104.0</td>\n",
       "      <td>[{'iso_639_1': 'en', 'name': 'English'}, {'iso...</td>\n",
       "      <td>Released</td>\n",
       "      <td>Roll the dice and unleash the excitement!</td>\n",
       "      <td>Jumanji</td>\n",
       "      <td>False</td>\n",
       "      <td>6.9</td>\n",
       "      <td>2413.0</td>\n",
       "    </tr>\n",
       "    <tr>\n",
       "      <th>2</th>\n",
       "      <td>False</td>\n",
       "      <td>{'id': 119050, 'name': 'Grumpy Old Men Collect...</td>\n",
       "      <td>0</td>\n",
       "      <td>[{'id': 10749, 'name': 'Romance'}, {'id': 35, ...</td>\n",
       "      <td>NaN</td>\n",
       "      <td>15602</td>\n",
       "      <td>tt0113228</td>\n",
       "      <td>en</td>\n",
       "      <td>Grumpier Old Men</td>\n",
       "      <td>A family wedding reignites the ancient feud be...</td>\n",
       "      <td>...</td>\n",
       "      <td>1995-12-22</td>\n",
       "      <td>0.0</td>\n",
       "      <td>101.0</td>\n",
       "      <td>[{'iso_639_1': 'en', 'name': 'English'}]</td>\n",
       "      <td>Released</td>\n",
       "      <td>Still Yelling. Still Fighting. Still Ready for...</td>\n",
       "      <td>Grumpier Old Men</td>\n",
       "      <td>False</td>\n",
       "      <td>6.5</td>\n",
       "      <td>92.0</td>\n",
       "    </tr>\n",
       "    <tr>\n",
       "      <th>3</th>\n",
       "      <td>False</td>\n",
       "      <td>NaN</td>\n",
       "      <td>16000000</td>\n",
       "      <td>[{'id': 35, 'name': 'Comedy'}, {'id': 18, 'nam...</td>\n",
       "      <td>NaN</td>\n",
       "      <td>31357</td>\n",
       "      <td>tt0114885</td>\n",
       "      <td>en</td>\n",
       "      <td>Waiting to Exhale</td>\n",
       "      <td>Cheated on, mistreated and stepped on, the wom...</td>\n",
       "      <td>...</td>\n",
       "      <td>1995-12-22</td>\n",
       "      <td>81452156.0</td>\n",
       "      <td>127.0</td>\n",
       "      <td>[{'iso_639_1': 'en', 'name': 'English'}]</td>\n",
       "      <td>Released</td>\n",
       "      <td>Friends are the people who let you be yourself...</td>\n",
       "      <td>Waiting to Exhale</td>\n",
       "      <td>False</td>\n",
       "      <td>6.1</td>\n",
       "      <td>34.0</td>\n",
       "    </tr>\n",
       "    <tr>\n",
       "      <th>4</th>\n",
       "      <td>False</td>\n",
       "      <td>{'id': 96871, 'name': 'Father of the Bride Col...</td>\n",
       "      <td>0</td>\n",
       "      <td>[{'id': 35, 'name': 'Comedy'}]</td>\n",
       "      <td>NaN</td>\n",
       "      <td>11862</td>\n",
       "      <td>tt0113041</td>\n",
       "      <td>en</td>\n",
       "      <td>Father of the Bride Part II</td>\n",
       "      <td>Just when George Banks has recovered from his ...</td>\n",
       "      <td>...</td>\n",
       "      <td>1995-02-10</td>\n",
       "      <td>76578911.0</td>\n",
       "      <td>106.0</td>\n",
       "      <td>[{'iso_639_1': 'en', 'name': 'English'}]</td>\n",
       "      <td>Released</td>\n",
       "      <td>Just When His World Is Back To Normal... He's ...</td>\n",
       "      <td>Father of the Bride Part II</td>\n",
       "      <td>False</td>\n",
       "      <td>5.7</td>\n",
       "      <td>173.0</td>\n",
       "    </tr>\n",
       "  </tbody>\n",
       "</table>\n",
       "<p>5 rows × 24 columns</p>\n",
       "</div>"
      ],
      "text/plain": [
       "   adult                              belongs_to_collection    budget  \\\n",
       "0  False  {'id': 10194, 'name': 'Toy Story Collection', ...  30000000   \n",
       "1  False                                                NaN  65000000   \n",
       "2  False  {'id': 119050, 'name': 'Grumpy Old Men Collect...         0   \n",
       "3  False                                                NaN  16000000   \n",
       "4  False  {'id': 96871, 'name': 'Father of the Bride Col...         0   \n",
       "\n",
       "                                              genres  \\\n",
       "0  [{'id': 16, 'name': 'Animation'}, {'id': 35, '...   \n",
       "1  [{'id': 12, 'name': 'Adventure'}, {'id': 14, '...   \n",
       "2  [{'id': 10749, 'name': 'Romance'}, {'id': 35, ...   \n",
       "3  [{'id': 35, 'name': 'Comedy'}, {'id': 18, 'nam...   \n",
       "4                     [{'id': 35, 'name': 'Comedy'}]   \n",
       "\n",
       "                               homepage     id    imdb_id original_language  \\\n",
       "0  http://toystory.disney.com/toy-story    862  tt0114709                en   \n",
       "1                                   NaN   8844  tt0113497                en   \n",
       "2                                   NaN  15602  tt0113228                en   \n",
       "3                                   NaN  31357  tt0114885                en   \n",
       "4                                   NaN  11862  tt0113041                en   \n",
       "\n",
       "                original_title  \\\n",
       "0                    Toy Story   \n",
       "1                      Jumanji   \n",
       "2             Grumpier Old Men   \n",
       "3            Waiting to Exhale   \n",
       "4  Father of the Bride Part II   \n",
       "\n",
       "                                            overview  ... release_date  \\\n",
       "0  Led by Woody, Andy's toys live happily in his ...  ...   1995-10-30   \n",
       "1  When siblings Judy and Peter discover an encha...  ...   1995-12-15   \n",
       "2  A family wedding reignites the ancient feud be...  ...   1995-12-22   \n",
       "3  Cheated on, mistreated and stepped on, the wom...  ...   1995-12-22   \n",
       "4  Just when George Banks has recovered from his ...  ...   1995-02-10   \n",
       "\n",
       "       revenue runtime                                   spoken_languages  \\\n",
       "0  373554033.0    81.0           [{'iso_639_1': 'en', 'name': 'English'}]   \n",
       "1  262797249.0   104.0  [{'iso_639_1': 'en', 'name': 'English'}, {'iso...   \n",
       "2          0.0   101.0           [{'iso_639_1': 'en', 'name': 'English'}]   \n",
       "3   81452156.0   127.0           [{'iso_639_1': 'en', 'name': 'English'}]   \n",
       "4   76578911.0   106.0           [{'iso_639_1': 'en', 'name': 'English'}]   \n",
       "\n",
       "     status                                            tagline  \\\n",
       "0  Released                                                NaN   \n",
       "1  Released          Roll the dice and unleash the excitement!   \n",
       "2  Released  Still Yelling. Still Fighting. Still Ready for...   \n",
       "3  Released  Friends are the people who let you be yourself...   \n",
       "4  Released  Just When His World Is Back To Normal... He's ...   \n",
       "\n",
       "                         title  video vote_average vote_count  \n",
       "0                    Toy Story  False          7.7     5415.0  \n",
       "1                      Jumanji  False          6.9     2413.0  \n",
       "2             Grumpier Old Men  False          6.5       92.0  \n",
       "3            Waiting to Exhale  False          6.1       34.0  \n",
       "4  Father of the Bride Part II  False          5.7      173.0  \n",
       "\n",
       "[5 rows x 24 columns]"
      ]
     },
     "execution_count": 3,
     "metadata": {},
     "output_type": "execute_result"
    }
   ],
   "source": [
    "movies_md.head()"
   ]
  },
  {
   "cell_type": "code",
   "execution_count": 4,
   "id": "4aec7d38",
   "metadata": {
    "execution": {
     "iopub.execute_input": "2022-06-17T03:46:17.003965Z",
     "iopub.status.busy": "2022-06-17T03:46:17.003550Z",
     "iopub.status.idle": "2022-06-17T03:46:17.120824Z",
     "shell.execute_reply": "2022-06-17T03:46:17.119834Z"
    },
    "papermill": {
     "duration": 0.14057,
     "end_time": "2022-06-17T03:46:17.123345",
     "exception": false,
     "start_time": "2022-06-17T03:46:16.982775",
     "status": "completed"
    },
    "tags": []
   },
   "outputs": [
    {
     "name": "stdout",
     "output_type": "stream",
     "text": [
      "<class 'pandas.core.frame.DataFrame'>\n",
      "RangeIndex: 45466 entries, 0 to 45465\n",
      "Data columns (total 24 columns):\n",
      " #   Column                 Non-Null Count  Dtype  \n",
      "---  ------                 --------------  -----  \n",
      " 0   adult                  45466 non-null  object \n",
      " 1   belongs_to_collection  4494 non-null   object \n",
      " 2   budget                 45466 non-null  object \n",
      " 3   genres                 45466 non-null  object \n",
      " 4   homepage               7782 non-null   object \n",
      " 5   id                     45466 non-null  object \n",
      " 6   imdb_id                45449 non-null  object \n",
      " 7   original_language      45455 non-null  object \n",
      " 8   original_title         45466 non-null  object \n",
      " 9   overview               44512 non-null  object \n",
      " 10  popularity             45461 non-null  object \n",
      " 11  poster_path            45080 non-null  object \n",
      " 12  production_companies   45463 non-null  object \n",
      " 13  production_countries   45463 non-null  object \n",
      " 14  release_date           45379 non-null  object \n",
      " 15  revenue                45460 non-null  float64\n",
      " 16  runtime                45203 non-null  float64\n",
      " 17  spoken_languages       45460 non-null  object \n",
      " 18  status                 45379 non-null  object \n",
      " 19  tagline                20412 non-null  object \n",
      " 20  title                  45460 non-null  object \n",
      " 21  video                  45460 non-null  object \n",
      " 22  vote_average           45460 non-null  float64\n",
      " 23  vote_count             45460 non-null  float64\n",
      "dtypes: float64(4), object(20)\n",
      "memory usage: 8.3+ MB\n"
     ]
    }
   ],
   "source": [
    "movies_md.info()"
   ]
  },
  {
   "cell_type": "code",
   "execution_count": 5,
   "id": "7a1569b0",
   "metadata": {
    "execution": {
     "iopub.execute_input": "2022-06-17T03:46:17.163859Z",
     "iopub.status.busy": "2022-06-17T03:46:17.163438Z",
     "iopub.status.idle": "2022-06-17T03:46:17.173331Z",
     "shell.execute_reply": "2022-06-17T03:46:17.172410Z"
    },
    "papermill": {
     "duration": 0.032515,
     "end_time": "2022-06-17T03:46:17.175429",
     "exception": false,
     "start_time": "2022-06-17T03:46:17.142914",
     "status": "completed"
    },
    "tags": []
   },
   "outputs": [
    {
     "data": {
      "text/html": [
       "<div>\n",
       "<style scoped>\n",
       "    .dataframe tbody tr th:only-of-type {\n",
       "        vertical-align: middle;\n",
       "    }\n",
       "\n",
       "    .dataframe tbody tr th {\n",
       "        vertical-align: top;\n",
       "    }\n",
       "\n",
       "    .dataframe thead th {\n",
       "        text-align: right;\n",
       "    }\n",
       "</style>\n",
       "<table border=\"1\" class=\"dataframe\">\n",
       "  <thead>\n",
       "    <tr style=\"text-align: right;\">\n",
       "      <th></th>\n",
       "      <th>id</th>\n",
       "      <th>keywords</th>\n",
       "    </tr>\n",
       "  </thead>\n",
       "  <tbody>\n",
       "    <tr>\n",
       "      <th>0</th>\n",
       "      <td>862</td>\n",
       "      <td>[{'id': 931, 'name': 'jealousy'}, {'id': 4290,...</td>\n",
       "    </tr>\n",
       "    <tr>\n",
       "      <th>1</th>\n",
       "      <td>8844</td>\n",
       "      <td>[{'id': 10090, 'name': 'board game'}, {'id': 1...</td>\n",
       "    </tr>\n",
       "    <tr>\n",
       "      <th>2</th>\n",
       "      <td>15602</td>\n",
       "      <td>[{'id': 1495, 'name': 'fishing'}, {'id': 12392...</td>\n",
       "    </tr>\n",
       "    <tr>\n",
       "      <th>3</th>\n",
       "      <td>31357</td>\n",
       "      <td>[{'id': 818, 'name': 'based on novel'}, {'id':...</td>\n",
       "    </tr>\n",
       "    <tr>\n",
       "      <th>4</th>\n",
       "      <td>11862</td>\n",
       "      <td>[{'id': 1009, 'name': 'baby'}, {'id': 1599, 'n...</td>\n",
       "    </tr>\n",
       "  </tbody>\n",
       "</table>\n",
       "</div>"
      ],
      "text/plain": [
       "      id                                           keywords\n",
       "0    862  [{'id': 931, 'name': 'jealousy'}, {'id': 4290,...\n",
       "1   8844  [{'id': 10090, 'name': 'board game'}, {'id': 1...\n",
       "2  15602  [{'id': 1495, 'name': 'fishing'}, {'id': 12392...\n",
       "3  31357  [{'id': 818, 'name': 'based on novel'}, {'id':...\n",
       "4  11862  [{'id': 1009, 'name': 'baby'}, {'id': 1599, 'n..."
      ]
     },
     "execution_count": 5,
     "metadata": {},
     "output_type": "execute_result"
    }
   ],
   "source": [
    "movies_keywords.head()"
   ]
  },
  {
   "cell_type": "code",
   "execution_count": 6,
   "id": "4aca48dd",
   "metadata": {
    "execution": {
     "iopub.execute_input": "2022-06-17T03:46:17.217273Z",
     "iopub.status.busy": "2022-06-17T03:46:17.216869Z",
     "iopub.status.idle": "2022-06-17T03:46:17.227507Z",
     "shell.execute_reply": "2022-06-17T03:46:17.226598Z"
    },
    "papermill": {
     "duration": 0.034463,
     "end_time": "2022-06-17T03:46:17.229754",
     "exception": false,
     "start_time": "2022-06-17T03:46:17.195291",
     "status": "completed"
    },
    "tags": []
   },
   "outputs": [
    {
     "data": {
      "text/html": [
       "<div>\n",
       "<style scoped>\n",
       "    .dataframe tbody tr th:only-of-type {\n",
       "        vertical-align: middle;\n",
       "    }\n",
       "\n",
       "    .dataframe tbody tr th {\n",
       "        vertical-align: top;\n",
       "    }\n",
       "\n",
       "    .dataframe thead th {\n",
       "        text-align: right;\n",
       "    }\n",
       "</style>\n",
       "<table border=\"1\" class=\"dataframe\">\n",
       "  <thead>\n",
       "    <tr style=\"text-align: right;\">\n",
       "      <th></th>\n",
       "      <th>cast</th>\n",
       "      <th>crew</th>\n",
       "      <th>id</th>\n",
       "    </tr>\n",
       "  </thead>\n",
       "  <tbody>\n",
       "    <tr>\n",
       "      <th>0</th>\n",
       "      <td>[{'cast_id': 14, 'character': 'Woody (voice)',...</td>\n",
       "      <td>[{'credit_id': '52fe4284c3a36847f8024f49', 'de...</td>\n",
       "      <td>862</td>\n",
       "    </tr>\n",
       "    <tr>\n",
       "      <th>1</th>\n",
       "      <td>[{'cast_id': 1, 'character': 'Alan Parrish', '...</td>\n",
       "      <td>[{'credit_id': '52fe44bfc3a36847f80a7cd1', 'de...</td>\n",
       "      <td>8844</td>\n",
       "    </tr>\n",
       "    <tr>\n",
       "      <th>2</th>\n",
       "      <td>[{'cast_id': 2, 'character': 'Max Goldman', 'c...</td>\n",
       "      <td>[{'credit_id': '52fe466a9251416c75077a89', 'de...</td>\n",
       "      <td>15602</td>\n",
       "    </tr>\n",
       "    <tr>\n",
       "      <th>3</th>\n",
       "      <td>[{'cast_id': 1, 'character': \"Savannah 'Vannah...</td>\n",
       "      <td>[{'credit_id': '52fe44779251416c91011acb', 'de...</td>\n",
       "      <td>31357</td>\n",
       "    </tr>\n",
       "    <tr>\n",
       "      <th>4</th>\n",
       "      <td>[{'cast_id': 1, 'character': 'George Banks', '...</td>\n",
       "      <td>[{'credit_id': '52fe44959251416c75039ed7', 'de...</td>\n",
       "      <td>11862</td>\n",
       "    </tr>\n",
       "  </tbody>\n",
       "</table>\n",
       "</div>"
      ],
      "text/plain": [
       "                                                cast  \\\n",
       "0  [{'cast_id': 14, 'character': 'Woody (voice)',...   \n",
       "1  [{'cast_id': 1, 'character': 'Alan Parrish', '...   \n",
       "2  [{'cast_id': 2, 'character': 'Max Goldman', 'c...   \n",
       "3  [{'cast_id': 1, 'character': \"Savannah 'Vannah...   \n",
       "4  [{'cast_id': 1, 'character': 'George Banks', '...   \n",
       "\n",
       "                                                crew     id  \n",
       "0  [{'credit_id': '52fe4284c3a36847f8024f49', 'de...    862  \n",
       "1  [{'credit_id': '52fe44bfc3a36847f80a7cd1', 'de...   8844  \n",
       "2  [{'credit_id': '52fe466a9251416c75077a89', 'de...  15602  \n",
       "3  [{'credit_id': '52fe44779251416c91011acb', 'de...  31357  \n",
       "4  [{'credit_id': '52fe44959251416c75039ed7', 'de...  11862  "
      ]
     },
     "execution_count": 6,
     "metadata": {},
     "output_type": "execute_result"
    }
   ],
   "source": [
    "movies_credits.head()"
   ]
  },
  {
   "cell_type": "code",
   "execution_count": 7,
   "id": "07ab30ce",
   "metadata": {
    "execution": {
     "iopub.execute_input": "2022-06-17T03:46:17.272506Z",
     "iopub.status.busy": "2022-06-17T03:46:17.271776Z",
     "iopub.status.idle": "2022-06-17T03:46:17.282368Z",
     "shell.execute_reply": "2022-06-17T03:46:17.281492Z"
    },
    "papermill": {
     "duration": 0.033898,
     "end_time": "2022-06-17T03:46:17.284755",
     "exception": false,
     "start_time": "2022-06-17T03:46:17.250857",
     "status": "completed"
    },
    "tags": []
   },
   "outputs": [],
   "source": [
    "movies_md = movies_md[movies_md['vote_count'] >= 55]"
   ]
  },
  {
   "cell_type": "code",
   "execution_count": 8,
   "id": "d0453227",
   "metadata": {
    "execution": {
     "iopub.execute_input": "2022-06-17T03:46:17.327063Z",
     "iopub.status.busy": "2022-06-17T03:46:17.326667Z",
     "iopub.status.idle": "2022-06-17T03:46:17.355095Z",
     "shell.execute_reply": "2022-06-17T03:46:17.354111Z"
    },
    "papermill": {
     "duration": 0.051709,
     "end_time": "2022-06-17T03:46:17.357150",
     "exception": false,
     "start_time": "2022-06-17T03:46:17.305441",
     "status": "completed"
    },
    "tags": []
   },
   "outputs": [
    {
     "data": {
      "text/html": [
       "<div>\n",
       "<style scoped>\n",
       "    .dataframe tbody tr th:only-of-type {\n",
       "        vertical-align: middle;\n",
       "    }\n",
       "\n",
       "    .dataframe tbody tr th {\n",
       "        vertical-align: top;\n",
       "    }\n",
       "\n",
       "    .dataframe thead th {\n",
       "        text-align: right;\n",
       "    }\n",
       "</style>\n",
       "<table border=\"1\" class=\"dataframe\">\n",
       "  <thead>\n",
       "    <tr style=\"text-align: right;\">\n",
       "      <th></th>\n",
       "      <th>adult</th>\n",
       "      <th>belongs_to_collection</th>\n",
       "      <th>budget</th>\n",
       "      <th>genres</th>\n",
       "      <th>homepage</th>\n",
       "      <th>id</th>\n",
       "      <th>imdb_id</th>\n",
       "      <th>original_language</th>\n",
       "      <th>original_title</th>\n",
       "      <th>overview</th>\n",
       "      <th>...</th>\n",
       "      <th>release_date</th>\n",
       "      <th>revenue</th>\n",
       "      <th>runtime</th>\n",
       "      <th>spoken_languages</th>\n",
       "      <th>status</th>\n",
       "      <th>tagline</th>\n",
       "      <th>title</th>\n",
       "      <th>video</th>\n",
       "      <th>vote_average</th>\n",
       "      <th>vote_count</th>\n",
       "    </tr>\n",
       "  </thead>\n",
       "  <tbody>\n",
       "    <tr>\n",
       "      <th>0</th>\n",
       "      <td>False</td>\n",
       "      <td>{'id': 10194, 'name': 'Toy Story Collection', ...</td>\n",
       "      <td>30000000</td>\n",
       "      <td>[{'id': 16, 'name': 'Animation'}, {'id': 35, '...</td>\n",
       "      <td>http://toystory.disney.com/toy-story</td>\n",
       "      <td>862</td>\n",
       "      <td>tt0114709</td>\n",
       "      <td>en</td>\n",
       "      <td>Toy Story</td>\n",
       "      <td>Led by Woody, Andy's toys live happily in his ...</td>\n",
       "      <td>...</td>\n",
       "      <td>1995-10-30</td>\n",
       "      <td>373554033.0</td>\n",
       "      <td>81.0</td>\n",
       "      <td>[{'iso_639_1': 'en', 'name': 'English'}]</td>\n",
       "      <td>Released</td>\n",
       "      <td>NaN</td>\n",
       "      <td>Toy Story</td>\n",
       "      <td>False</td>\n",
       "      <td>7.7</td>\n",
       "      <td>5415.0</td>\n",
       "    </tr>\n",
       "    <tr>\n",
       "      <th>1</th>\n",
       "      <td>False</td>\n",
       "      <td>NaN</td>\n",
       "      <td>65000000</td>\n",
       "      <td>[{'id': 12, 'name': 'Adventure'}, {'id': 14, '...</td>\n",
       "      <td>NaN</td>\n",
       "      <td>8844</td>\n",
       "      <td>tt0113497</td>\n",
       "      <td>en</td>\n",
       "      <td>Jumanji</td>\n",
       "      <td>When siblings Judy and Peter discover an encha...</td>\n",
       "      <td>...</td>\n",
       "      <td>1995-12-15</td>\n",
       "      <td>262797249.0</td>\n",
       "      <td>104.0</td>\n",
       "      <td>[{'iso_639_1': 'en', 'name': 'English'}, {'iso...</td>\n",
       "      <td>Released</td>\n",
       "      <td>Roll the dice and unleash the excitement!</td>\n",
       "      <td>Jumanji</td>\n",
       "      <td>False</td>\n",
       "      <td>6.9</td>\n",
       "      <td>2413.0</td>\n",
       "    </tr>\n",
       "    <tr>\n",
       "      <th>2</th>\n",
       "      <td>False</td>\n",
       "      <td>{'id': 119050, 'name': 'Grumpy Old Men Collect...</td>\n",
       "      <td>0</td>\n",
       "      <td>[{'id': 10749, 'name': 'Romance'}, {'id': 35, ...</td>\n",
       "      <td>NaN</td>\n",
       "      <td>15602</td>\n",
       "      <td>tt0113228</td>\n",
       "      <td>en</td>\n",
       "      <td>Grumpier Old Men</td>\n",
       "      <td>A family wedding reignites the ancient feud be...</td>\n",
       "      <td>...</td>\n",
       "      <td>1995-12-22</td>\n",
       "      <td>0.0</td>\n",
       "      <td>101.0</td>\n",
       "      <td>[{'iso_639_1': 'en', 'name': 'English'}]</td>\n",
       "      <td>Released</td>\n",
       "      <td>Still Yelling. Still Fighting. Still Ready for...</td>\n",
       "      <td>Grumpier Old Men</td>\n",
       "      <td>False</td>\n",
       "      <td>6.5</td>\n",
       "      <td>92.0</td>\n",
       "    </tr>\n",
       "    <tr>\n",
       "      <th>4</th>\n",
       "      <td>False</td>\n",
       "      <td>{'id': 96871, 'name': 'Father of the Bride Col...</td>\n",
       "      <td>0</td>\n",
       "      <td>[{'id': 35, 'name': 'Comedy'}]</td>\n",
       "      <td>NaN</td>\n",
       "      <td>11862</td>\n",
       "      <td>tt0113041</td>\n",
       "      <td>en</td>\n",
       "      <td>Father of the Bride Part II</td>\n",
       "      <td>Just when George Banks has recovered from his ...</td>\n",
       "      <td>...</td>\n",
       "      <td>1995-02-10</td>\n",
       "      <td>76578911.0</td>\n",
       "      <td>106.0</td>\n",
       "      <td>[{'iso_639_1': 'en', 'name': 'English'}]</td>\n",
       "      <td>Released</td>\n",
       "      <td>Just When His World Is Back To Normal... He's ...</td>\n",
       "      <td>Father of the Bride Part II</td>\n",
       "      <td>False</td>\n",
       "      <td>5.7</td>\n",
       "      <td>173.0</td>\n",
       "    </tr>\n",
       "    <tr>\n",
       "      <th>5</th>\n",
       "      <td>False</td>\n",
       "      <td>NaN</td>\n",
       "      <td>60000000</td>\n",
       "      <td>[{'id': 28, 'name': 'Action'}, {'id': 80, 'nam...</td>\n",
       "      <td>NaN</td>\n",
       "      <td>949</td>\n",
       "      <td>tt0113277</td>\n",
       "      <td>en</td>\n",
       "      <td>Heat</td>\n",
       "      <td>Obsessive master thief, Neil McCauley leads a ...</td>\n",
       "      <td>...</td>\n",
       "      <td>1995-12-15</td>\n",
       "      <td>187436818.0</td>\n",
       "      <td>170.0</td>\n",
       "      <td>[{'iso_639_1': 'en', 'name': 'English'}, {'iso...</td>\n",
       "      <td>Released</td>\n",
       "      <td>A Los Angeles Crime Saga</td>\n",
       "      <td>Heat</td>\n",
       "      <td>False</td>\n",
       "      <td>7.7</td>\n",
       "      <td>1886.0</td>\n",
       "    </tr>\n",
       "  </tbody>\n",
       "</table>\n",
       "<p>5 rows × 24 columns</p>\n",
       "</div>"
      ],
      "text/plain": [
       "   adult                              belongs_to_collection    budget  \\\n",
       "0  False  {'id': 10194, 'name': 'Toy Story Collection', ...  30000000   \n",
       "1  False                                                NaN  65000000   \n",
       "2  False  {'id': 119050, 'name': 'Grumpy Old Men Collect...         0   \n",
       "4  False  {'id': 96871, 'name': 'Father of the Bride Col...         0   \n",
       "5  False                                                NaN  60000000   \n",
       "\n",
       "                                              genres  \\\n",
       "0  [{'id': 16, 'name': 'Animation'}, {'id': 35, '...   \n",
       "1  [{'id': 12, 'name': 'Adventure'}, {'id': 14, '...   \n",
       "2  [{'id': 10749, 'name': 'Romance'}, {'id': 35, ...   \n",
       "4                     [{'id': 35, 'name': 'Comedy'}]   \n",
       "5  [{'id': 28, 'name': 'Action'}, {'id': 80, 'nam...   \n",
       "\n",
       "                               homepage     id    imdb_id original_language  \\\n",
       "0  http://toystory.disney.com/toy-story    862  tt0114709                en   \n",
       "1                                   NaN   8844  tt0113497                en   \n",
       "2                                   NaN  15602  tt0113228                en   \n",
       "4                                   NaN  11862  tt0113041                en   \n",
       "5                                   NaN    949  tt0113277                en   \n",
       "\n",
       "                original_title  \\\n",
       "0                    Toy Story   \n",
       "1                      Jumanji   \n",
       "2             Grumpier Old Men   \n",
       "4  Father of the Bride Part II   \n",
       "5                         Heat   \n",
       "\n",
       "                                            overview  ... release_date  \\\n",
       "0  Led by Woody, Andy's toys live happily in his ...  ...   1995-10-30   \n",
       "1  When siblings Judy and Peter discover an encha...  ...   1995-12-15   \n",
       "2  A family wedding reignites the ancient feud be...  ...   1995-12-22   \n",
       "4  Just when George Banks has recovered from his ...  ...   1995-02-10   \n",
       "5  Obsessive master thief, Neil McCauley leads a ...  ...   1995-12-15   \n",
       "\n",
       "       revenue runtime                                   spoken_languages  \\\n",
       "0  373554033.0    81.0           [{'iso_639_1': 'en', 'name': 'English'}]   \n",
       "1  262797249.0   104.0  [{'iso_639_1': 'en', 'name': 'English'}, {'iso...   \n",
       "2          0.0   101.0           [{'iso_639_1': 'en', 'name': 'English'}]   \n",
       "4   76578911.0   106.0           [{'iso_639_1': 'en', 'name': 'English'}]   \n",
       "5  187436818.0   170.0  [{'iso_639_1': 'en', 'name': 'English'}, {'iso...   \n",
       "\n",
       "     status                                            tagline  \\\n",
       "0  Released                                                NaN   \n",
       "1  Released          Roll the dice and unleash the excitement!   \n",
       "2  Released  Still Yelling. Still Fighting. Still Ready for...   \n",
       "4  Released  Just When His World Is Back To Normal... He's ...   \n",
       "5  Released                           A Los Angeles Crime Saga   \n",
       "\n",
       "                         title  video vote_average vote_count  \n",
       "0                    Toy Story  False          7.7     5415.0  \n",
       "1                      Jumanji  False          6.9     2413.0  \n",
       "2             Grumpier Old Men  False          6.5       92.0  \n",
       "4  Father of the Bride Part II  False          5.7      173.0  \n",
       "5                         Heat  False          7.7     1886.0  \n",
       "\n",
       "[5 rows x 24 columns]"
      ]
     },
     "execution_count": 8,
     "metadata": {},
     "output_type": "execute_result"
    }
   ],
   "source": [
    "movies_md.head()"
   ]
  },
  {
   "cell_type": "code",
   "execution_count": 9,
   "id": "70cd7383",
   "metadata": {
    "execution": {
     "iopub.execute_input": "2022-06-17T03:46:17.399811Z",
     "iopub.status.busy": "2022-06-17T03:46:17.398980Z",
     "iopub.status.idle": "2022-06-17T03:46:17.405606Z",
     "shell.execute_reply": "2022-06-17T03:46:17.404700Z"
    },
    "papermill": {
     "duration": 0.029868,
     "end_time": "2022-06-17T03:46:17.407625",
     "exception": false,
     "start_time": "2022-06-17T03:46:17.377757",
     "status": "completed"
    },
    "tags": []
   },
   "outputs": [
    {
     "data": {
      "text/plain": [
       "Index(['adult', 'belongs_to_collection', 'budget', 'genres', 'homepage', 'id',\n",
       "       'imdb_id', 'original_language', 'original_title', 'overview',\n",
       "       'popularity', 'poster_path', 'production_companies',\n",
       "       'production_countries', 'release_date', 'revenue', 'runtime',\n",
       "       'spoken_languages', 'status', 'tagline', 'title', 'video',\n",
       "       'vote_average', 'vote_count'],\n",
       "      dtype='object')"
      ]
     },
     "execution_count": 9,
     "metadata": {},
     "output_type": "execute_result"
    }
   ],
   "source": [
    "movies_md.columns"
   ]
  },
  {
   "cell_type": "code",
   "execution_count": 10,
   "id": "783ec7dd",
   "metadata": {
    "execution": {
     "iopub.execute_input": "2022-06-17T03:46:17.449712Z",
     "iopub.status.busy": "2022-06-17T03:46:17.449354Z",
     "iopub.status.idle": "2022-06-17T03:46:17.455372Z",
     "shell.execute_reply": "2022-06-17T03:46:17.454406Z"
    },
    "papermill": {
     "duration": 0.029498,
     "end_time": "2022-06-17T03:46:17.457270",
     "exception": false,
     "start_time": "2022-06-17T03:46:17.427772",
     "status": "completed"
    },
    "tags": []
   },
   "outputs": [],
   "source": [
    "movies_md = movies_md[['id', 'original_title', 'overview', 'genres']]"
   ]
  },
  {
   "cell_type": "code",
   "execution_count": 11,
   "id": "2be87942",
   "metadata": {
    "execution": {
     "iopub.execute_input": "2022-06-17T03:46:17.499823Z",
     "iopub.status.busy": "2022-06-17T03:46:17.499478Z",
     "iopub.status.idle": "2022-06-17T03:46:17.510354Z",
     "shell.execute_reply": "2022-06-17T03:46:17.509450Z"
    },
    "papermill": {
     "duration": 0.035097,
     "end_time": "2022-06-17T03:46:17.512596",
     "exception": false,
     "start_time": "2022-06-17T03:46:17.477499",
     "status": "completed"
    },
    "tags": []
   },
   "outputs": [
    {
     "data": {
      "text/html": [
       "<div>\n",
       "<style scoped>\n",
       "    .dataframe tbody tr th:only-of-type {\n",
       "        vertical-align: middle;\n",
       "    }\n",
       "\n",
       "    .dataframe tbody tr th {\n",
       "        vertical-align: top;\n",
       "    }\n",
       "\n",
       "    .dataframe thead th {\n",
       "        text-align: right;\n",
       "    }\n",
       "</style>\n",
       "<table border=\"1\" class=\"dataframe\">\n",
       "  <thead>\n",
       "    <tr style=\"text-align: right;\">\n",
       "      <th></th>\n",
       "      <th>id</th>\n",
       "      <th>original_title</th>\n",
       "      <th>overview</th>\n",
       "      <th>genres</th>\n",
       "    </tr>\n",
       "  </thead>\n",
       "  <tbody>\n",
       "    <tr>\n",
       "      <th>0</th>\n",
       "      <td>862</td>\n",
       "      <td>Toy Story</td>\n",
       "      <td>Led by Woody, Andy's toys live happily in his ...</td>\n",
       "      <td>[{'id': 16, 'name': 'Animation'}, {'id': 35, '...</td>\n",
       "    </tr>\n",
       "    <tr>\n",
       "      <th>1</th>\n",
       "      <td>8844</td>\n",
       "      <td>Jumanji</td>\n",
       "      <td>When siblings Judy and Peter discover an encha...</td>\n",
       "      <td>[{'id': 12, 'name': 'Adventure'}, {'id': 14, '...</td>\n",
       "    </tr>\n",
       "    <tr>\n",
       "      <th>2</th>\n",
       "      <td>15602</td>\n",
       "      <td>Grumpier Old Men</td>\n",
       "      <td>A family wedding reignites the ancient feud be...</td>\n",
       "      <td>[{'id': 10749, 'name': 'Romance'}, {'id': 35, ...</td>\n",
       "    </tr>\n",
       "    <tr>\n",
       "      <th>4</th>\n",
       "      <td>11862</td>\n",
       "      <td>Father of the Bride Part II</td>\n",
       "      <td>Just when George Banks has recovered from his ...</td>\n",
       "      <td>[{'id': 35, 'name': 'Comedy'}]</td>\n",
       "    </tr>\n",
       "    <tr>\n",
       "      <th>5</th>\n",
       "      <td>949</td>\n",
       "      <td>Heat</td>\n",
       "      <td>Obsessive master thief, Neil McCauley leads a ...</td>\n",
       "      <td>[{'id': 28, 'name': 'Action'}, {'id': 80, 'nam...</td>\n",
       "    </tr>\n",
       "  </tbody>\n",
       "</table>\n",
       "</div>"
      ],
      "text/plain": [
       "      id               original_title  \\\n",
       "0    862                    Toy Story   \n",
       "1   8844                      Jumanji   \n",
       "2  15602             Grumpier Old Men   \n",
       "4  11862  Father of the Bride Part II   \n",
       "5    949                         Heat   \n",
       "\n",
       "                                            overview  \\\n",
       "0  Led by Woody, Andy's toys live happily in his ...   \n",
       "1  When siblings Judy and Peter discover an encha...   \n",
       "2  A family wedding reignites the ancient feud be...   \n",
       "4  Just when George Banks has recovered from his ...   \n",
       "5  Obsessive master thief, Neil McCauley leads a ...   \n",
       "\n",
       "                                              genres  \n",
       "0  [{'id': 16, 'name': 'Animation'}, {'id': 35, '...  \n",
       "1  [{'id': 12, 'name': 'Adventure'}, {'id': 14, '...  \n",
       "2  [{'id': 10749, 'name': 'Romance'}, {'id': 35, ...  \n",
       "4                     [{'id': 35, 'name': 'Comedy'}]  \n",
       "5  [{'id': 28, 'name': 'Action'}, {'id': 80, 'nam...  "
      ]
     },
     "execution_count": 11,
     "metadata": {},
     "output_type": "execute_result"
    }
   ],
   "source": [
    "movies_md.head()"
   ]
  },
  {
   "cell_type": "code",
   "execution_count": 12,
   "id": "b966366a",
   "metadata": {
    "execution": {
     "iopub.execute_input": "2022-06-17T03:46:17.555625Z",
     "iopub.status.busy": "2022-06-17T03:46:17.554569Z",
     "iopub.status.idle": "2022-06-17T03:46:17.560573Z",
     "shell.execute_reply": "2022-06-17T03:46:17.559971Z"
    },
    "papermill": {
     "duration": 0.029453,
     "end_time": "2022-06-17T03:46:17.562460",
     "exception": false,
     "start_time": "2022-06-17T03:46:17.533007",
     "status": "completed"
    },
    "tags": []
   },
   "outputs": [],
   "source": [
    "movies_md['title'] = movies_md['original_title']"
   ]
  },
  {
   "cell_type": "code",
   "execution_count": 13,
   "id": "ff51bc7b",
   "metadata": {
    "execution": {
     "iopub.execute_input": "2022-06-17T03:46:17.605704Z",
     "iopub.status.busy": "2022-06-17T03:46:17.604706Z",
     "iopub.status.idle": "2022-06-17T03:46:17.617859Z",
     "shell.execute_reply": "2022-06-17T03:46:17.616976Z"
    },
    "papermill": {
     "duration": 0.036683,
     "end_time": "2022-06-17T03:46:17.619792",
     "exception": false,
     "start_time": "2022-06-17T03:46:17.583109",
     "status": "completed"
    },
    "tags": []
   },
   "outputs": [
    {
     "data": {
      "text/html": [
       "<div>\n",
       "<style scoped>\n",
       "    .dataframe tbody tr th:only-of-type {\n",
       "        vertical-align: middle;\n",
       "    }\n",
       "\n",
       "    .dataframe tbody tr th {\n",
       "        vertical-align: top;\n",
       "    }\n",
       "\n",
       "    .dataframe thead th {\n",
       "        text-align: right;\n",
       "    }\n",
       "</style>\n",
       "<table border=\"1\" class=\"dataframe\">\n",
       "  <thead>\n",
       "    <tr style=\"text-align: right;\">\n",
       "      <th></th>\n",
       "      <th>id</th>\n",
       "      <th>original_title</th>\n",
       "      <th>overview</th>\n",
       "      <th>genres</th>\n",
       "      <th>title</th>\n",
       "    </tr>\n",
       "  </thead>\n",
       "  <tbody>\n",
       "    <tr>\n",
       "      <th>0</th>\n",
       "      <td>862</td>\n",
       "      <td>Toy Story</td>\n",
       "      <td>Led by Woody, Andy's toys live happily in his ...</td>\n",
       "      <td>[{'id': 16, 'name': 'Animation'}, {'id': 35, '...</td>\n",
       "      <td>Toy Story</td>\n",
       "    </tr>\n",
       "    <tr>\n",
       "      <th>1</th>\n",
       "      <td>8844</td>\n",
       "      <td>Jumanji</td>\n",
       "      <td>When siblings Judy and Peter discover an encha...</td>\n",
       "      <td>[{'id': 12, 'name': 'Adventure'}, {'id': 14, '...</td>\n",
       "      <td>Jumanji</td>\n",
       "    </tr>\n",
       "    <tr>\n",
       "      <th>2</th>\n",
       "      <td>15602</td>\n",
       "      <td>Grumpier Old Men</td>\n",
       "      <td>A family wedding reignites the ancient feud be...</td>\n",
       "      <td>[{'id': 10749, 'name': 'Romance'}, {'id': 35, ...</td>\n",
       "      <td>Grumpier Old Men</td>\n",
       "    </tr>\n",
       "    <tr>\n",
       "      <th>4</th>\n",
       "      <td>11862</td>\n",
       "      <td>Father of the Bride Part II</td>\n",
       "      <td>Just when George Banks has recovered from his ...</td>\n",
       "      <td>[{'id': 35, 'name': 'Comedy'}]</td>\n",
       "      <td>Father of the Bride Part II</td>\n",
       "    </tr>\n",
       "    <tr>\n",
       "      <th>5</th>\n",
       "      <td>949</td>\n",
       "      <td>Heat</td>\n",
       "      <td>Obsessive master thief, Neil McCauley leads a ...</td>\n",
       "      <td>[{'id': 28, 'name': 'Action'}, {'id': 80, 'nam...</td>\n",
       "      <td>Heat</td>\n",
       "    </tr>\n",
       "  </tbody>\n",
       "</table>\n",
       "</div>"
      ],
      "text/plain": [
       "      id               original_title  \\\n",
       "0    862                    Toy Story   \n",
       "1   8844                      Jumanji   \n",
       "2  15602             Grumpier Old Men   \n",
       "4  11862  Father of the Bride Part II   \n",
       "5    949                         Heat   \n",
       "\n",
       "                                            overview  \\\n",
       "0  Led by Woody, Andy's toys live happily in his ...   \n",
       "1  When siblings Judy and Peter discover an encha...   \n",
       "2  A family wedding reignites the ancient feud be...   \n",
       "4  Just when George Banks has recovered from his ...   \n",
       "5  Obsessive master thief, Neil McCauley leads a ...   \n",
       "\n",
       "                                              genres  \\\n",
       "0  [{'id': 16, 'name': 'Animation'}, {'id': 35, '...   \n",
       "1  [{'id': 12, 'name': 'Adventure'}, {'id': 14, '...   \n",
       "2  [{'id': 10749, 'name': 'Romance'}, {'id': 35, ...   \n",
       "4                     [{'id': 35, 'name': 'Comedy'}]   \n",
       "5  [{'id': 28, 'name': 'Action'}, {'id': 80, 'nam...   \n",
       "\n",
       "                         title  \n",
       "0                    Toy Story  \n",
       "1                      Jumanji  \n",
       "2             Grumpier Old Men  \n",
       "4  Father of the Bride Part II  \n",
       "5                         Heat  "
      ]
     },
     "execution_count": 13,
     "metadata": {},
     "output_type": "execute_result"
    }
   ],
   "source": [
    "movies_md.head()"
   ]
  },
  {
   "cell_type": "code",
   "execution_count": 14,
   "id": "4ef99dff",
   "metadata": {
    "execution": {
     "iopub.execute_input": "2022-06-17T03:46:17.663138Z",
     "iopub.status.busy": "2022-06-17T03:46:17.662439Z",
     "iopub.status.idle": "2022-06-17T03:46:17.667239Z",
     "shell.execute_reply": "2022-06-17T03:46:17.666414Z"
    },
    "papermill": {
     "duration": 0.028908,
     "end_time": "2022-06-17T03:46:17.669191",
     "exception": false,
     "start_time": "2022-06-17T03:46:17.640283",
     "status": "completed"
    },
    "tags": []
   },
   "outputs": [],
   "source": [
    "movies_md.reset_index(inplace=True, drop=True)"
   ]
  },
  {
   "cell_type": "code",
   "execution_count": 15,
   "id": "19f4de39",
   "metadata": {
    "execution": {
     "iopub.execute_input": "2022-06-17T03:46:17.712842Z",
     "iopub.status.busy": "2022-06-17T03:46:17.712182Z",
     "iopub.status.idle": "2022-06-17T03:46:17.723856Z",
     "shell.execute_reply": "2022-06-17T03:46:17.723001Z"
    },
    "papermill": {
     "duration": 0.036189,
     "end_time": "2022-06-17T03:46:17.725935",
     "exception": false,
     "start_time": "2022-06-17T03:46:17.689746",
     "status": "completed"
    },
    "tags": []
   },
   "outputs": [
    {
     "data": {
      "text/html": [
       "<div>\n",
       "<style scoped>\n",
       "    .dataframe tbody tr th:only-of-type {\n",
       "        vertical-align: middle;\n",
       "    }\n",
       "\n",
       "    .dataframe tbody tr th {\n",
       "        vertical-align: top;\n",
       "    }\n",
       "\n",
       "    .dataframe thead th {\n",
       "        text-align: right;\n",
       "    }\n",
       "</style>\n",
       "<table border=\"1\" class=\"dataframe\">\n",
       "  <thead>\n",
       "    <tr style=\"text-align: right;\">\n",
       "      <th></th>\n",
       "      <th>id</th>\n",
       "      <th>original_title</th>\n",
       "      <th>overview</th>\n",
       "      <th>genres</th>\n",
       "      <th>title</th>\n",
       "    </tr>\n",
       "  </thead>\n",
       "  <tbody>\n",
       "    <tr>\n",
       "      <th>0</th>\n",
       "      <td>862</td>\n",
       "      <td>Toy Story</td>\n",
       "      <td>Led by Woody, Andy's toys live happily in his ...</td>\n",
       "      <td>[{'id': 16, 'name': 'Animation'}, {'id': 35, '...</td>\n",
       "      <td>Toy Story</td>\n",
       "    </tr>\n",
       "    <tr>\n",
       "      <th>1</th>\n",
       "      <td>8844</td>\n",
       "      <td>Jumanji</td>\n",
       "      <td>When siblings Judy and Peter discover an encha...</td>\n",
       "      <td>[{'id': 12, 'name': 'Adventure'}, {'id': 14, '...</td>\n",
       "      <td>Jumanji</td>\n",
       "    </tr>\n",
       "    <tr>\n",
       "      <th>2</th>\n",
       "      <td>15602</td>\n",
       "      <td>Grumpier Old Men</td>\n",
       "      <td>A family wedding reignites the ancient feud be...</td>\n",
       "      <td>[{'id': 10749, 'name': 'Romance'}, {'id': 35, ...</td>\n",
       "      <td>Grumpier Old Men</td>\n",
       "    </tr>\n",
       "    <tr>\n",
       "      <th>3</th>\n",
       "      <td>11862</td>\n",
       "      <td>Father of the Bride Part II</td>\n",
       "      <td>Just when George Banks has recovered from his ...</td>\n",
       "      <td>[{'id': 35, 'name': 'Comedy'}]</td>\n",
       "      <td>Father of the Bride Part II</td>\n",
       "    </tr>\n",
       "    <tr>\n",
       "      <th>4</th>\n",
       "      <td>949</td>\n",
       "      <td>Heat</td>\n",
       "      <td>Obsessive master thief, Neil McCauley leads a ...</td>\n",
       "      <td>[{'id': 28, 'name': 'Action'}, {'id': 80, 'nam...</td>\n",
       "      <td>Heat</td>\n",
       "    </tr>\n",
       "  </tbody>\n",
       "</table>\n",
       "</div>"
      ],
      "text/plain": [
       "      id               original_title  \\\n",
       "0    862                    Toy Story   \n",
       "1   8844                      Jumanji   \n",
       "2  15602             Grumpier Old Men   \n",
       "3  11862  Father of the Bride Part II   \n",
       "4    949                         Heat   \n",
       "\n",
       "                                            overview  \\\n",
       "0  Led by Woody, Andy's toys live happily in his ...   \n",
       "1  When siblings Judy and Peter discover an encha...   \n",
       "2  A family wedding reignites the ancient feud be...   \n",
       "3  Just when George Banks has recovered from his ...   \n",
       "4  Obsessive master thief, Neil McCauley leads a ...   \n",
       "\n",
       "                                              genres  \\\n",
       "0  [{'id': 16, 'name': 'Animation'}, {'id': 35, '...   \n",
       "1  [{'id': 12, 'name': 'Adventure'}, {'id': 14, '...   \n",
       "2  [{'id': 10749, 'name': 'Romance'}, {'id': 35, ...   \n",
       "3                     [{'id': 35, 'name': 'Comedy'}]   \n",
       "4  [{'id': 28, 'name': 'Action'}, {'id': 80, 'nam...   \n",
       "\n",
       "                         title  \n",
       "0                    Toy Story  \n",
       "1                      Jumanji  \n",
       "2             Grumpier Old Men  \n",
       "3  Father of the Bride Part II  \n",
       "4                         Heat  "
      ]
     },
     "execution_count": 15,
     "metadata": {},
     "output_type": "execute_result"
    }
   ],
   "source": [
    "movies_md.head()"
   ]
  },
  {
   "cell_type": "markdown",
   "id": "1d203463",
   "metadata": {
    "papermill": {
     "duration": 0.020743,
     "end_time": "2022-06-17T03:46:17.767595",
     "exception": false,
     "start_time": "2022-06-17T03:46:17.746852",
     "status": "completed"
    },
    "tags": []
   },
   "source": [
    "## Columns to work with\n",
    "\n",
    "In `movies_md` we use:\n",
    "1. `Original title`\n",
    "2. `Overview`\n",
    "3. `Genres`\n",
    "4. `Id`\n",
    "\n",
    "In `movies_keywords` we use:\n",
    "1. `Keywords`\n",
    "2. `Id`\n",
    "\n",
    "In `movies_credits` we use:\n",
    "1. `Cast`\n",
    "2. `Id`"
   ]
  },
  {
   "cell_type": "code",
   "execution_count": 16,
   "id": "2093a867",
   "metadata": {
    "execution": {
     "iopub.execute_input": "2022-06-17T03:46:17.811775Z",
     "iopub.status.busy": "2022-06-17T03:46:17.810884Z",
     "iopub.status.idle": "2022-06-17T03:46:17.818448Z",
     "shell.execute_reply": "2022-06-17T03:46:17.817567Z"
    },
    "papermill": {
     "duration": 0.031804,
     "end_time": "2022-06-17T03:46:17.820538",
     "exception": false,
     "start_time": "2022-06-17T03:46:17.788734",
     "status": "completed"
    },
    "tags": []
   },
   "outputs": [],
   "source": [
    "movies_credits = movies_credits[['id', 'cast']]"
   ]
  },
  {
   "cell_type": "code",
   "execution_count": 17,
   "id": "48d62019",
   "metadata": {
    "execution": {
     "iopub.execute_input": "2022-06-17T03:46:17.864985Z",
     "iopub.status.busy": "2022-06-17T03:46:17.864288Z",
     "iopub.status.idle": "2022-06-17T03:46:17.874075Z",
     "shell.execute_reply": "2022-06-17T03:46:17.873098Z"
    },
    "papermill": {
     "duration": 0.034228,
     "end_time": "2022-06-17T03:46:17.876061",
     "exception": false,
     "start_time": "2022-06-17T03:46:17.841833",
     "status": "completed"
    },
    "tags": []
   },
   "outputs": [
    {
     "data": {
      "text/html": [
       "<div>\n",
       "<style scoped>\n",
       "    .dataframe tbody tr th:only-of-type {\n",
       "        vertical-align: middle;\n",
       "    }\n",
       "\n",
       "    .dataframe tbody tr th {\n",
       "        vertical-align: top;\n",
       "    }\n",
       "\n",
       "    .dataframe thead th {\n",
       "        text-align: right;\n",
       "    }\n",
       "</style>\n",
       "<table border=\"1\" class=\"dataframe\">\n",
       "  <thead>\n",
       "    <tr style=\"text-align: right;\">\n",
       "      <th></th>\n",
       "      <th>id</th>\n",
       "      <th>cast</th>\n",
       "    </tr>\n",
       "  </thead>\n",
       "  <tbody>\n",
       "    <tr>\n",
       "      <th>0</th>\n",
       "      <td>862</td>\n",
       "      <td>[{'cast_id': 14, 'character': 'Woody (voice)',...</td>\n",
       "    </tr>\n",
       "    <tr>\n",
       "      <th>1</th>\n",
       "      <td>8844</td>\n",
       "      <td>[{'cast_id': 1, 'character': 'Alan Parrish', '...</td>\n",
       "    </tr>\n",
       "    <tr>\n",
       "      <th>2</th>\n",
       "      <td>15602</td>\n",
       "      <td>[{'cast_id': 2, 'character': 'Max Goldman', 'c...</td>\n",
       "    </tr>\n",
       "    <tr>\n",
       "      <th>3</th>\n",
       "      <td>31357</td>\n",
       "      <td>[{'cast_id': 1, 'character': \"Savannah 'Vannah...</td>\n",
       "    </tr>\n",
       "    <tr>\n",
       "      <th>4</th>\n",
       "      <td>11862</td>\n",
       "      <td>[{'cast_id': 1, 'character': 'George Banks', '...</td>\n",
       "    </tr>\n",
       "  </tbody>\n",
       "</table>\n",
       "</div>"
      ],
      "text/plain": [
       "      id                                               cast\n",
       "0    862  [{'cast_id': 14, 'character': 'Woody (voice)',...\n",
       "1   8844  [{'cast_id': 1, 'character': 'Alan Parrish', '...\n",
       "2  15602  [{'cast_id': 2, 'character': 'Max Goldman', 'c...\n",
       "3  31357  [{'cast_id': 1, 'character': \"Savannah 'Vannah...\n",
       "4  11862  [{'cast_id': 1, 'character': 'George Banks', '..."
      ]
     },
     "execution_count": 17,
     "metadata": {},
     "output_type": "execute_result"
    }
   ],
   "source": [
    "movies_credits.head()"
   ]
  },
  {
   "cell_type": "markdown",
   "id": "1f185b18",
   "metadata": {
    "papermill": {
     "duration": 0.021124,
     "end_time": "2022-06-17T03:46:17.918365",
     "exception": false,
     "start_time": "2022-06-17T03:46:17.897241",
     "status": "completed"
    },
    "tags": []
   },
   "source": [
    "## Preprocessing and Cleaning"
   ]
  },
  {
   "cell_type": "code",
   "execution_count": 18,
   "id": "9988c255",
   "metadata": {
    "execution": {
     "iopub.execute_input": "2022-06-17T03:46:17.962961Z",
     "iopub.status.busy": "2022-06-17T03:46:17.962545Z",
     "iopub.status.idle": "2022-06-17T03:46:17.968411Z",
     "shell.execute_reply": "2022-06-17T03:46:17.967523Z"
    },
    "papermill": {
     "duration": 0.031045,
     "end_time": "2022-06-17T03:46:17.970663",
     "exception": false,
     "start_time": "2022-06-17T03:46:17.939618",
     "status": "completed"
    },
    "tags": []
   },
   "outputs": [
    {
     "data": {
      "text/plain": [
       "8636"
      ]
     },
     "execution_count": 18,
     "metadata": {},
     "output_type": "execute_result"
    }
   ],
   "source": [
    "len(movies_md)"
   ]
  },
  {
   "cell_type": "code",
   "execution_count": 19,
   "id": "1e997b54",
   "metadata": {
    "execution": {
     "iopub.execute_input": "2022-06-17T03:46:18.015240Z",
     "iopub.status.busy": "2022-06-17T03:46:18.014284Z",
     "iopub.status.idle": "2022-06-17T03:46:18.027539Z",
     "shell.execute_reply": "2022-06-17T03:46:18.026801Z"
    },
    "papermill": {
     "duration": 0.038016,
     "end_time": "2022-06-17T03:46:18.029700",
     "exception": false,
     "start_time": "2022-06-17T03:46:17.991684",
     "status": "completed"
    },
    "tags": []
   },
   "outputs": [],
   "source": [
    "# Removing rows where id is not present or not a number\n",
    "movies_md = movies_md[movies_md['id'].str.isnumeric()]"
   ]
  },
  {
   "cell_type": "code",
   "execution_count": 20,
   "id": "0915d64b",
   "metadata": {
    "execution": {
     "iopub.execute_input": "2022-06-17T03:46:18.074168Z",
     "iopub.status.busy": "2022-06-17T03:46:18.073483Z",
     "iopub.status.idle": "2022-06-17T03:46:18.079374Z",
     "shell.execute_reply": "2022-06-17T03:46:18.078667Z"
    },
    "papermill": {
     "duration": 0.030418,
     "end_time": "2022-06-17T03:46:18.081208",
     "exception": false,
     "start_time": "2022-06-17T03:46:18.050790",
     "status": "completed"
    },
    "tags": []
   },
   "outputs": [
    {
     "data": {
      "text/plain": [
       "8636"
      ]
     },
     "execution_count": 20,
     "metadata": {},
     "output_type": "execute_result"
    }
   ],
   "source": [
    "len(movies_md)"
   ]
  },
  {
   "cell_type": "markdown",
   "id": "079044ae",
   "metadata": {
    "papermill": {
     "duration": 0.021227,
     "end_time": "2022-06-17T03:46:18.124128",
     "exception": false,
     "start_time": "2022-06-17T03:46:18.102901",
     "status": "completed"
    },
    "tags": []
   },
   "source": [
    "## Merging Dataframes or Concatenating Dataframes"
   ]
  },
  {
   "cell_type": "code",
   "execution_count": 21,
   "id": "06c10ef1",
   "metadata": {
    "execution": {
     "iopub.execute_input": "2022-06-17T03:46:18.170116Z",
     "iopub.status.busy": "2022-06-17T03:46:18.168415Z",
     "iopub.status.idle": "2022-06-17T03:46:18.177081Z",
     "shell.execute_reply": "2022-06-17T03:46:18.176402Z"
    },
    "papermill": {
     "duration": 0.033661,
     "end_time": "2022-06-17T03:46:18.179068",
     "exception": false,
     "start_time": "2022-06-17T03:46:18.145407",
     "status": "completed"
    },
    "tags": []
   },
   "outputs": [],
   "source": [
    "movies_md['id'] = movies_md['id'].astype(int)"
   ]
  },
  {
   "cell_type": "code",
   "execution_count": 22,
   "id": "1fde166e",
   "metadata": {
    "execution": {
     "iopub.execute_input": "2022-06-17T03:46:18.223422Z",
     "iopub.status.busy": "2022-06-17T03:46:18.223014Z",
     "iopub.status.idle": "2022-06-17T03:46:18.252422Z",
     "shell.execute_reply": "2022-06-17T03:46:18.251199Z"
    },
    "papermill": {
     "duration": 0.054491,
     "end_time": "2022-06-17T03:46:18.254901",
     "exception": false,
     "start_time": "2022-06-17T03:46:18.200410",
     "status": "completed"
    },
    "tags": []
   },
   "outputs": [],
   "source": [
    "movies_df = pd.merge(movies_md, movies_keywords, on='id', how='left')"
   ]
  },
  {
   "cell_type": "code",
   "execution_count": 23,
   "id": "4377cc56",
   "metadata": {
    "execution": {
     "iopub.execute_input": "2022-06-17T03:46:18.313140Z",
     "iopub.status.busy": "2022-06-17T03:46:18.311807Z",
     "iopub.status.idle": "2022-06-17T03:46:18.326055Z",
     "shell.execute_reply": "2022-06-17T03:46:18.325360Z"
    },
    "papermill": {
     "duration": 0.048143,
     "end_time": "2022-06-17T03:46:18.328683",
     "exception": false,
     "start_time": "2022-06-17T03:46:18.280540",
     "status": "completed"
    },
    "tags": []
   },
   "outputs": [
    {
     "data": {
      "text/html": [
       "<div>\n",
       "<style scoped>\n",
       "    .dataframe tbody tr th:only-of-type {\n",
       "        vertical-align: middle;\n",
       "    }\n",
       "\n",
       "    .dataframe tbody tr th {\n",
       "        vertical-align: top;\n",
       "    }\n",
       "\n",
       "    .dataframe thead th {\n",
       "        text-align: right;\n",
       "    }\n",
       "</style>\n",
       "<table border=\"1\" class=\"dataframe\">\n",
       "  <thead>\n",
       "    <tr style=\"text-align: right;\">\n",
       "      <th></th>\n",
       "      <th>id</th>\n",
       "      <th>original_title</th>\n",
       "      <th>overview</th>\n",
       "      <th>genres</th>\n",
       "      <th>title</th>\n",
       "      <th>keywords</th>\n",
       "    </tr>\n",
       "  </thead>\n",
       "  <tbody>\n",
       "    <tr>\n",
       "      <th>0</th>\n",
       "      <td>862</td>\n",
       "      <td>Toy Story</td>\n",
       "      <td>Led by Woody, Andy's toys live happily in his ...</td>\n",
       "      <td>[{'id': 16, 'name': 'Animation'}, {'id': 35, '...</td>\n",
       "      <td>Toy Story</td>\n",
       "      <td>[{'id': 931, 'name': 'jealousy'}, {'id': 4290,...</td>\n",
       "    </tr>\n",
       "    <tr>\n",
       "      <th>1</th>\n",
       "      <td>8844</td>\n",
       "      <td>Jumanji</td>\n",
       "      <td>When siblings Judy and Peter discover an encha...</td>\n",
       "      <td>[{'id': 12, 'name': 'Adventure'}, {'id': 14, '...</td>\n",
       "      <td>Jumanji</td>\n",
       "      <td>[{'id': 10090, 'name': 'board game'}, {'id': 1...</td>\n",
       "    </tr>\n",
       "    <tr>\n",
       "      <th>2</th>\n",
       "      <td>15602</td>\n",
       "      <td>Grumpier Old Men</td>\n",
       "      <td>A family wedding reignites the ancient feud be...</td>\n",
       "      <td>[{'id': 10749, 'name': 'Romance'}, {'id': 35, ...</td>\n",
       "      <td>Grumpier Old Men</td>\n",
       "      <td>[{'id': 1495, 'name': 'fishing'}, {'id': 12392...</td>\n",
       "    </tr>\n",
       "    <tr>\n",
       "      <th>3</th>\n",
       "      <td>11862</td>\n",
       "      <td>Father of the Bride Part II</td>\n",
       "      <td>Just when George Banks has recovered from his ...</td>\n",
       "      <td>[{'id': 35, 'name': 'Comedy'}]</td>\n",
       "      <td>Father of the Bride Part II</td>\n",
       "      <td>[{'id': 1009, 'name': 'baby'}, {'id': 1599, 'n...</td>\n",
       "    </tr>\n",
       "    <tr>\n",
       "      <th>4</th>\n",
       "      <td>949</td>\n",
       "      <td>Heat</td>\n",
       "      <td>Obsessive master thief, Neil McCauley leads a ...</td>\n",
       "      <td>[{'id': 28, 'name': 'Action'}, {'id': 80, 'nam...</td>\n",
       "      <td>Heat</td>\n",
       "      <td>[{'id': 642, 'name': 'robbery'}, {'id': 703, '...</td>\n",
       "    </tr>\n",
       "  </tbody>\n",
       "</table>\n",
       "</div>"
      ],
      "text/plain": [
       "      id               original_title  \\\n",
       "0    862                    Toy Story   \n",
       "1   8844                      Jumanji   \n",
       "2  15602             Grumpier Old Men   \n",
       "3  11862  Father of the Bride Part II   \n",
       "4    949                         Heat   \n",
       "\n",
       "                                            overview  \\\n",
       "0  Led by Woody, Andy's toys live happily in his ...   \n",
       "1  When siblings Judy and Peter discover an encha...   \n",
       "2  A family wedding reignites the ancient feud be...   \n",
       "3  Just when George Banks has recovered from his ...   \n",
       "4  Obsessive master thief, Neil McCauley leads a ...   \n",
       "\n",
       "                                              genres  \\\n",
       "0  [{'id': 16, 'name': 'Animation'}, {'id': 35, '...   \n",
       "1  [{'id': 12, 'name': 'Adventure'}, {'id': 14, '...   \n",
       "2  [{'id': 10749, 'name': 'Romance'}, {'id': 35, ...   \n",
       "3                     [{'id': 35, 'name': 'Comedy'}]   \n",
       "4  [{'id': 28, 'name': 'Action'}, {'id': 80, 'nam...   \n",
       "\n",
       "                         title  \\\n",
       "0                    Toy Story   \n",
       "1                      Jumanji   \n",
       "2             Grumpier Old Men   \n",
       "3  Father of the Bride Part II   \n",
       "4                         Heat   \n",
       "\n",
       "                                            keywords  \n",
       "0  [{'id': 931, 'name': 'jealousy'}, {'id': 4290,...  \n",
       "1  [{'id': 10090, 'name': 'board game'}, {'id': 1...  \n",
       "2  [{'id': 1495, 'name': 'fishing'}, {'id': 12392...  \n",
       "3  [{'id': 1009, 'name': 'baby'}, {'id': 1599, 'n...  \n",
       "4  [{'id': 642, 'name': 'robbery'}, {'id': 703, '...  "
      ]
     },
     "execution_count": 23,
     "metadata": {},
     "output_type": "execute_result"
    }
   ],
   "source": [
    "movies_df.head()"
   ]
  },
  {
   "cell_type": "code",
   "execution_count": 24,
   "id": "04d6d9c8",
   "metadata": {
    "execution": {
     "iopub.execute_input": "2022-06-17T03:46:18.379816Z",
     "iopub.status.busy": "2022-06-17T03:46:18.379135Z",
     "iopub.status.idle": "2022-06-17T03:46:18.383585Z",
     "shell.execute_reply": "2022-06-17T03:46:18.382613Z"
    },
    "papermill": {
     "duration": 0.029708,
     "end_time": "2022-06-17T03:46:18.385520",
     "exception": false,
     "start_time": "2022-06-17T03:46:18.355812",
     "status": "completed"
    },
    "tags": []
   },
   "outputs": [],
   "source": [
    "movies_df.reset_index(inplace=True, drop=True)"
   ]
  },
  {
   "cell_type": "code",
   "execution_count": 25,
   "id": "7989bd8f",
   "metadata": {
    "execution": {
     "iopub.execute_input": "2022-06-17T03:46:18.430859Z",
     "iopub.status.busy": "2022-06-17T03:46:18.430237Z",
     "iopub.status.idle": "2022-06-17T03:46:18.450134Z",
     "shell.execute_reply": "2022-06-17T03:46:18.449413Z"
    },
    "papermill": {
     "duration": 0.045043,
     "end_time": "2022-06-17T03:46:18.452313",
     "exception": false,
     "start_time": "2022-06-17T03:46:18.407270",
     "status": "completed"
    },
    "tags": []
   },
   "outputs": [],
   "source": [
    "movies_df = pd.merge(movies_df, movies_credits, on='id', how='left')\n",
    "movies_df.reset_index(inplace=True, drop=True)"
   ]
  },
  {
   "cell_type": "code",
   "execution_count": 26,
   "id": "363d40da",
   "metadata": {
    "execution": {
     "iopub.execute_input": "2022-06-17T03:46:18.497888Z",
     "iopub.status.busy": "2022-06-17T03:46:18.497293Z",
     "iopub.status.idle": "2022-06-17T03:46:18.509028Z",
     "shell.execute_reply": "2022-06-17T03:46:18.508403Z"
    },
    "papermill": {
     "duration": 0.036595,
     "end_time": "2022-06-17T03:46:18.510712",
     "exception": false,
     "start_time": "2022-06-17T03:46:18.474117",
     "status": "completed"
    },
    "tags": []
   },
   "outputs": [
    {
     "data": {
      "text/html": [
       "<div>\n",
       "<style scoped>\n",
       "    .dataframe tbody tr th:only-of-type {\n",
       "        vertical-align: middle;\n",
       "    }\n",
       "\n",
       "    .dataframe tbody tr th {\n",
       "        vertical-align: top;\n",
       "    }\n",
       "\n",
       "    .dataframe thead th {\n",
       "        text-align: right;\n",
       "    }\n",
       "</style>\n",
       "<table border=\"1\" class=\"dataframe\">\n",
       "  <thead>\n",
       "    <tr style=\"text-align: right;\">\n",
       "      <th></th>\n",
       "      <th>id</th>\n",
       "      <th>original_title</th>\n",
       "      <th>overview</th>\n",
       "      <th>genres</th>\n",
       "      <th>title</th>\n",
       "      <th>keywords</th>\n",
       "      <th>cast</th>\n",
       "    </tr>\n",
       "  </thead>\n",
       "  <tbody>\n",
       "    <tr>\n",
       "      <th>0</th>\n",
       "      <td>862</td>\n",
       "      <td>Toy Story</td>\n",
       "      <td>Led by Woody, Andy's toys live happily in his ...</td>\n",
       "      <td>[{'id': 16, 'name': 'Animation'}, {'id': 35, '...</td>\n",
       "      <td>Toy Story</td>\n",
       "      <td>[{'id': 931, 'name': 'jealousy'}, {'id': 4290,...</td>\n",
       "      <td>[{'cast_id': 14, 'character': 'Woody (voice)',...</td>\n",
       "    </tr>\n",
       "    <tr>\n",
       "      <th>1</th>\n",
       "      <td>8844</td>\n",
       "      <td>Jumanji</td>\n",
       "      <td>When siblings Judy and Peter discover an encha...</td>\n",
       "      <td>[{'id': 12, 'name': 'Adventure'}, {'id': 14, '...</td>\n",
       "      <td>Jumanji</td>\n",
       "      <td>[{'id': 10090, 'name': 'board game'}, {'id': 1...</td>\n",
       "      <td>[{'cast_id': 1, 'character': 'Alan Parrish', '...</td>\n",
       "    </tr>\n",
       "    <tr>\n",
       "      <th>2</th>\n",
       "      <td>15602</td>\n",
       "      <td>Grumpier Old Men</td>\n",
       "      <td>A family wedding reignites the ancient feud be...</td>\n",
       "      <td>[{'id': 10749, 'name': 'Romance'}, {'id': 35, ...</td>\n",
       "      <td>Grumpier Old Men</td>\n",
       "      <td>[{'id': 1495, 'name': 'fishing'}, {'id': 12392...</td>\n",
       "      <td>[{'cast_id': 2, 'character': 'Max Goldman', 'c...</td>\n",
       "    </tr>\n",
       "    <tr>\n",
       "      <th>3</th>\n",
       "      <td>11862</td>\n",
       "      <td>Father of the Bride Part II</td>\n",
       "      <td>Just when George Banks has recovered from his ...</td>\n",
       "      <td>[{'id': 35, 'name': 'Comedy'}]</td>\n",
       "      <td>Father of the Bride Part II</td>\n",
       "      <td>[{'id': 1009, 'name': 'baby'}, {'id': 1599, 'n...</td>\n",
       "      <td>[{'cast_id': 1, 'character': 'George Banks', '...</td>\n",
       "    </tr>\n",
       "    <tr>\n",
       "      <th>4</th>\n",
       "      <td>949</td>\n",
       "      <td>Heat</td>\n",
       "      <td>Obsessive master thief, Neil McCauley leads a ...</td>\n",
       "      <td>[{'id': 28, 'name': 'Action'}, {'id': 80, 'nam...</td>\n",
       "      <td>Heat</td>\n",
       "      <td>[{'id': 642, 'name': 'robbery'}, {'id': 703, '...</td>\n",
       "      <td>[{'cast_id': 25, 'character': 'Lt. Vincent Han...</td>\n",
       "    </tr>\n",
       "  </tbody>\n",
       "</table>\n",
       "</div>"
      ],
      "text/plain": [
       "      id               original_title  \\\n",
       "0    862                    Toy Story   \n",
       "1   8844                      Jumanji   \n",
       "2  15602             Grumpier Old Men   \n",
       "3  11862  Father of the Bride Part II   \n",
       "4    949                         Heat   \n",
       "\n",
       "                                            overview  \\\n",
       "0  Led by Woody, Andy's toys live happily in his ...   \n",
       "1  When siblings Judy and Peter discover an encha...   \n",
       "2  A family wedding reignites the ancient feud be...   \n",
       "3  Just when George Banks has recovered from his ...   \n",
       "4  Obsessive master thief, Neil McCauley leads a ...   \n",
       "\n",
       "                                              genres  \\\n",
       "0  [{'id': 16, 'name': 'Animation'}, {'id': 35, '...   \n",
       "1  [{'id': 12, 'name': 'Adventure'}, {'id': 14, '...   \n",
       "2  [{'id': 10749, 'name': 'Romance'}, {'id': 35, ...   \n",
       "3                     [{'id': 35, 'name': 'Comedy'}]   \n",
       "4  [{'id': 28, 'name': 'Action'}, {'id': 80, 'nam...   \n",
       "\n",
       "                         title  \\\n",
       "0                    Toy Story   \n",
       "1                      Jumanji   \n",
       "2             Grumpier Old Men   \n",
       "3  Father of the Bride Part II   \n",
       "4                         Heat   \n",
       "\n",
       "                                            keywords  \\\n",
       "0  [{'id': 931, 'name': 'jealousy'}, {'id': 4290,...   \n",
       "1  [{'id': 10090, 'name': 'board game'}, {'id': 1...   \n",
       "2  [{'id': 1495, 'name': 'fishing'}, {'id': 12392...   \n",
       "3  [{'id': 1009, 'name': 'baby'}, {'id': 1599, 'n...   \n",
       "4  [{'id': 642, 'name': 'robbery'}, {'id': 703, '...   \n",
       "\n",
       "                                                cast  \n",
       "0  [{'cast_id': 14, 'character': 'Woody (voice)',...  \n",
       "1  [{'cast_id': 1, 'character': 'Alan Parrish', '...  \n",
       "2  [{'cast_id': 2, 'character': 'Max Goldman', 'c...  \n",
       "3  [{'cast_id': 1, 'character': 'George Banks', '...  \n",
       "4  [{'cast_id': 25, 'character': 'Lt. Vincent Han...  "
      ]
     },
     "execution_count": 26,
     "metadata": {},
     "output_type": "execute_result"
    }
   ],
   "source": [
    "movies_df.head()"
   ]
  },
  {
   "cell_type": "code",
   "execution_count": 27,
   "id": "fad877c0",
   "metadata": {
    "execution": {
     "iopub.execute_input": "2022-06-17T03:46:18.557207Z",
     "iopub.status.busy": "2022-06-17T03:46:18.556750Z",
     "iopub.status.idle": "2022-06-17T03:46:18.769511Z",
     "shell.execute_reply": "2022-06-17T03:46:18.768362Z"
    },
    "papermill": {
     "duration": 0.239414,
     "end_time": "2022-06-17T03:46:18.772083",
     "exception": false,
     "start_time": "2022-06-17T03:46:18.532669",
     "status": "completed"
    },
    "tags": []
   },
   "outputs": [],
   "source": [
    "movies_df['genre'] = movies_df['genres'].apply(lambda x: [i['name'] for i in eval(x)])"
   ]
  },
  {
   "cell_type": "code",
   "execution_count": 28,
   "id": "044e723f",
   "metadata": {
    "execution": {
     "iopub.execute_input": "2022-06-17T03:46:18.817966Z",
     "iopub.status.busy": "2022-06-17T03:46:18.817524Z",
     "iopub.status.idle": "2022-06-17T03:46:18.833774Z",
     "shell.execute_reply": "2022-06-17T03:46:18.832745Z"
    },
    "papermill": {
     "duration": 0.042101,
     "end_time": "2022-06-17T03:46:18.836316",
     "exception": false,
     "start_time": "2022-06-17T03:46:18.794215",
     "status": "completed"
    },
    "tags": []
   },
   "outputs": [
    {
     "data": {
      "text/html": [
       "<div>\n",
       "<style scoped>\n",
       "    .dataframe tbody tr th:only-of-type {\n",
       "        vertical-align: middle;\n",
       "    }\n",
       "\n",
       "    .dataframe tbody tr th {\n",
       "        vertical-align: top;\n",
       "    }\n",
       "\n",
       "    .dataframe thead th {\n",
       "        text-align: right;\n",
       "    }\n",
       "</style>\n",
       "<table border=\"1\" class=\"dataframe\">\n",
       "  <thead>\n",
       "    <tr style=\"text-align: right;\">\n",
       "      <th></th>\n",
       "      <th>id</th>\n",
       "      <th>original_title</th>\n",
       "      <th>overview</th>\n",
       "      <th>genres</th>\n",
       "      <th>title</th>\n",
       "      <th>keywords</th>\n",
       "      <th>cast</th>\n",
       "      <th>genre</th>\n",
       "    </tr>\n",
       "  </thead>\n",
       "  <tbody>\n",
       "    <tr>\n",
       "      <th>0</th>\n",
       "      <td>862</td>\n",
       "      <td>Toy Story</td>\n",
       "      <td>Led by Woody, Andy's toys live happily in his ...</td>\n",
       "      <td>[{'id': 16, 'name': 'Animation'}, {'id': 35, '...</td>\n",
       "      <td>Toy Story</td>\n",
       "      <td>[{'id': 931, 'name': 'jealousy'}, {'id': 4290,...</td>\n",
       "      <td>[{'cast_id': 14, 'character': 'Woody (voice)',...</td>\n",
       "      <td>[Animation, Comedy, Family]</td>\n",
       "    </tr>\n",
       "    <tr>\n",
       "      <th>1</th>\n",
       "      <td>8844</td>\n",
       "      <td>Jumanji</td>\n",
       "      <td>When siblings Judy and Peter discover an encha...</td>\n",
       "      <td>[{'id': 12, 'name': 'Adventure'}, {'id': 14, '...</td>\n",
       "      <td>Jumanji</td>\n",
       "      <td>[{'id': 10090, 'name': 'board game'}, {'id': 1...</td>\n",
       "      <td>[{'cast_id': 1, 'character': 'Alan Parrish', '...</td>\n",
       "      <td>[Adventure, Fantasy, Family]</td>\n",
       "    </tr>\n",
       "    <tr>\n",
       "      <th>2</th>\n",
       "      <td>15602</td>\n",
       "      <td>Grumpier Old Men</td>\n",
       "      <td>A family wedding reignites the ancient feud be...</td>\n",
       "      <td>[{'id': 10749, 'name': 'Romance'}, {'id': 35, ...</td>\n",
       "      <td>Grumpier Old Men</td>\n",
       "      <td>[{'id': 1495, 'name': 'fishing'}, {'id': 12392...</td>\n",
       "      <td>[{'cast_id': 2, 'character': 'Max Goldman', 'c...</td>\n",
       "      <td>[Romance, Comedy]</td>\n",
       "    </tr>\n",
       "    <tr>\n",
       "      <th>3</th>\n",
       "      <td>11862</td>\n",
       "      <td>Father of the Bride Part II</td>\n",
       "      <td>Just when George Banks has recovered from his ...</td>\n",
       "      <td>[{'id': 35, 'name': 'Comedy'}]</td>\n",
       "      <td>Father of the Bride Part II</td>\n",
       "      <td>[{'id': 1009, 'name': 'baby'}, {'id': 1599, 'n...</td>\n",
       "      <td>[{'cast_id': 1, 'character': 'George Banks', '...</td>\n",
       "      <td>[Comedy]</td>\n",
       "    </tr>\n",
       "    <tr>\n",
       "      <th>4</th>\n",
       "      <td>949</td>\n",
       "      <td>Heat</td>\n",
       "      <td>Obsessive master thief, Neil McCauley leads a ...</td>\n",
       "      <td>[{'id': 28, 'name': 'Action'}, {'id': 80, 'nam...</td>\n",
       "      <td>Heat</td>\n",
       "      <td>[{'id': 642, 'name': 'robbery'}, {'id': 703, '...</td>\n",
       "      <td>[{'cast_id': 25, 'character': 'Lt. Vincent Han...</td>\n",
       "      <td>[Action, Crime, Drama, Thriller]</td>\n",
       "    </tr>\n",
       "  </tbody>\n",
       "</table>\n",
       "</div>"
      ],
      "text/plain": [
       "      id               original_title  \\\n",
       "0    862                    Toy Story   \n",
       "1   8844                      Jumanji   \n",
       "2  15602             Grumpier Old Men   \n",
       "3  11862  Father of the Bride Part II   \n",
       "4    949                         Heat   \n",
       "\n",
       "                                            overview  \\\n",
       "0  Led by Woody, Andy's toys live happily in his ...   \n",
       "1  When siblings Judy and Peter discover an encha...   \n",
       "2  A family wedding reignites the ancient feud be...   \n",
       "3  Just when George Banks has recovered from his ...   \n",
       "4  Obsessive master thief, Neil McCauley leads a ...   \n",
       "\n",
       "                                              genres  \\\n",
       "0  [{'id': 16, 'name': 'Animation'}, {'id': 35, '...   \n",
       "1  [{'id': 12, 'name': 'Adventure'}, {'id': 14, '...   \n",
       "2  [{'id': 10749, 'name': 'Romance'}, {'id': 35, ...   \n",
       "3                     [{'id': 35, 'name': 'Comedy'}]   \n",
       "4  [{'id': 28, 'name': 'Action'}, {'id': 80, 'nam...   \n",
       "\n",
       "                         title  \\\n",
       "0                    Toy Story   \n",
       "1                      Jumanji   \n",
       "2             Grumpier Old Men   \n",
       "3  Father of the Bride Part II   \n",
       "4                         Heat   \n",
       "\n",
       "                                            keywords  \\\n",
       "0  [{'id': 931, 'name': 'jealousy'}, {'id': 4290,...   \n",
       "1  [{'id': 10090, 'name': 'board game'}, {'id': 1...   \n",
       "2  [{'id': 1495, 'name': 'fishing'}, {'id': 12392...   \n",
       "3  [{'id': 1009, 'name': 'baby'}, {'id': 1599, 'n...   \n",
       "4  [{'id': 642, 'name': 'robbery'}, {'id': 703, '...   \n",
       "\n",
       "                                                cast  \\\n",
       "0  [{'cast_id': 14, 'character': 'Woody (voice)',...   \n",
       "1  [{'cast_id': 1, 'character': 'Alan Parrish', '...   \n",
       "2  [{'cast_id': 2, 'character': 'Max Goldman', 'c...   \n",
       "3  [{'cast_id': 1, 'character': 'George Banks', '...   \n",
       "4  [{'cast_id': 25, 'character': 'Lt. Vincent Han...   \n",
       "\n",
       "                              genre  \n",
       "0       [Animation, Comedy, Family]  \n",
       "1      [Adventure, Fantasy, Family]  \n",
       "2                 [Romance, Comedy]  \n",
       "3                          [Comedy]  \n",
       "4  [Action, Crime, Drama, Thriller]  "
      ]
     },
     "execution_count": 28,
     "metadata": {},
     "output_type": "execute_result"
    }
   ],
   "source": [
    "movies_df.head()"
   ]
  },
  {
   "cell_type": "code",
   "execution_count": 29,
   "id": "f604ebbd",
   "metadata": {
    "execution": {
     "iopub.execute_input": "2022-06-17T03:46:18.882390Z",
     "iopub.status.busy": "2022-06-17T03:46:18.882004Z",
     "iopub.status.idle": "2022-06-17T03:46:18.898354Z",
     "shell.execute_reply": "2022-06-17T03:46:18.897618Z"
    },
    "papermill": {
     "duration": 0.041782,
     "end_time": "2022-06-17T03:46:18.900532",
     "exception": false,
     "start_time": "2022-06-17T03:46:18.858750",
     "status": "completed"
    },
    "tags": []
   },
   "outputs": [],
   "source": [
    "movies_df['genre'] = movies_df['genre'].apply(lambda x: [i.replace(\" \", \"\") for i in x])"
   ]
  },
  {
   "cell_type": "code",
   "execution_count": 30,
   "id": "a3dc1ab9",
   "metadata": {
    "execution": {
     "iopub.execute_input": "2022-06-17T03:46:18.947649Z",
     "iopub.status.busy": "2022-06-17T03:46:18.946953Z",
     "iopub.status.idle": "2022-06-17T03:46:18.962837Z",
     "shell.execute_reply": "2022-06-17T03:46:18.961860Z"
    },
    "papermill": {
     "duration": 0.041806,
     "end_time": "2022-06-17T03:46:18.964891",
     "exception": false,
     "start_time": "2022-06-17T03:46:18.923085",
     "status": "completed"
    },
    "tags": []
   },
   "outputs": [
    {
     "data": {
      "text/html": [
       "<div>\n",
       "<style scoped>\n",
       "    .dataframe tbody tr th:only-of-type {\n",
       "        vertical-align: middle;\n",
       "    }\n",
       "\n",
       "    .dataframe tbody tr th {\n",
       "        vertical-align: top;\n",
       "    }\n",
       "\n",
       "    .dataframe thead th {\n",
       "        text-align: right;\n",
       "    }\n",
       "</style>\n",
       "<table border=\"1\" class=\"dataframe\">\n",
       "  <thead>\n",
       "    <tr style=\"text-align: right;\">\n",
       "      <th></th>\n",
       "      <th>id</th>\n",
       "      <th>original_title</th>\n",
       "      <th>overview</th>\n",
       "      <th>genres</th>\n",
       "      <th>title</th>\n",
       "      <th>keywords</th>\n",
       "      <th>cast</th>\n",
       "      <th>genre</th>\n",
       "    </tr>\n",
       "  </thead>\n",
       "  <tbody>\n",
       "    <tr>\n",
       "      <th>0</th>\n",
       "      <td>862</td>\n",
       "      <td>Toy Story</td>\n",
       "      <td>Led by Woody, Andy's toys live happily in his ...</td>\n",
       "      <td>[{'id': 16, 'name': 'Animation'}, {'id': 35, '...</td>\n",
       "      <td>Toy Story</td>\n",
       "      <td>[{'id': 931, 'name': 'jealousy'}, {'id': 4290,...</td>\n",
       "      <td>[{'cast_id': 14, 'character': 'Woody (voice)',...</td>\n",
       "      <td>[Animation, Comedy, Family]</td>\n",
       "    </tr>\n",
       "    <tr>\n",
       "      <th>1</th>\n",
       "      <td>8844</td>\n",
       "      <td>Jumanji</td>\n",
       "      <td>When siblings Judy and Peter discover an encha...</td>\n",
       "      <td>[{'id': 12, 'name': 'Adventure'}, {'id': 14, '...</td>\n",
       "      <td>Jumanji</td>\n",
       "      <td>[{'id': 10090, 'name': 'board game'}, {'id': 1...</td>\n",
       "      <td>[{'cast_id': 1, 'character': 'Alan Parrish', '...</td>\n",
       "      <td>[Adventure, Fantasy, Family]</td>\n",
       "    </tr>\n",
       "    <tr>\n",
       "      <th>2</th>\n",
       "      <td>15602</td>\n",
       "      <td>Grumpier Old Men</td>\n",
       "      <td>A family wedding reignites the ancient feud be...</td>\n",
       "      <td>[{'id': 10749, 'name': 'Romance'}, {'id': 35, ...</td>\n",
       "      <td>Grumpier Old Men</td>\n",
       "      <td>[{'id': 1495, 'name': 'fishing'}, {'id': 12392...</td>\n",
       "      <td>[{'cast_id': 2, 'character': 'Max Goldman', 'c...</td>\n",
       "      <td>[Romance, Comedy]</td>\n",
       "    </tr>\n",
       "    <tr>\n",
       "      <th>3</th>\n",
       "      <td>11862</td>\n",
       "      <td>Father of the Bride Part II</td>\n",
       "      <td>Just when George Banks has recovered from his ...</td>\n",
       "      <td>[{'id': 35, 'name': 'Comedy'}]</td>\n",
       "      <td>Father of the Bride Part II</td>\n",
       "      <td>[{'id': 1009, 'name': 'baby'}, {'id': 1599, 'n...</td>\n",
       "      <td>[{'cast_id': 1, 'character': 'George Banks', '...</td>\n",
       "      <td>[Comedy]</td>\n",
       "    </tr>\n",
       "    <tr>\n",
       "      <th>4</th>\n",
       "      <td>949</td>\n",
       "      <td>Heat</td>\n",
       "      <td>Obsessive master thief, Neil McCauley leads a ...</td>\n",
       "      <td>[{'id': 28, 'name': 'Action'}, {'id': 80, 'nam...</td>\n",
       "      <td>Heat</td>\n",
       "      <td>[{'id': 642, 'name': 'robbery'}, {'id': 703, '...</td>\n",
       "      <td>[{'cast_id': 25, 'character': 'Lt. Vincent Han...</td>\n",
       "      <td>[Action, Crime, Drama, Thriller]</td>\n",
       "    </tr>\n",
       "  </tbody>\n",
       "</table>\n",
       "</div>"
      ],
      "text/plain": [
       "      id               original_title  \\\n",
       "0    862                    Toy Story   \n",
       "1   8844                      Jumanji   \n",
       "2  15602             Grumpier Old Men   \n",
       "3  11862  Father of the Bride Part II   \n",
       "4    949                         Heat   \n",
       "\n",
       "                                            overview  \\\n",
       "0  Led by Woody, Andy's toys live happily in his ...   \n",
       "1  When siblings Judy and Peter discover an encha...   \n",
       "2  A family wedding reignites the ancient feud be...   \n",
       "3  Just when George Banks has recovered from his ...   \n",
       "4  Obsessive master thief, Neil McCauley leads a ...   \n",
       "\n",
       "                                              genres  \\\n",
       "0  [{'id': 16, 'name': 'Animation'}, {'id': 35, '...   \n",
       "1  [{'id': 12, 'name': 'Adventure'}, {'id': 14, '...   \n",
       "2  [{'id': 10749, 'name': 'Romance'}, {'id': 35, ...   \n",
       "3                     [{'id': 35, 'name': 'Comedy'}]   \n",
       "4  [{'id': 28, 'name': 'Action'}, {'id': 80, 'nam...   \n",
       "\n",
       "                         title  \\\n",
       "0                    Toy Story   \n",
       "1                      Jumanji   \n",
       "2             Grumpier Old Men   \n",
       "3  Father of the Bride Part II   \n",
       "4                         Heat   \n",
       "\n",
       "                                            keywords  \\\n",
       "0  [{'id': 931, 'name': 'jealousy'}, {'id': 4290,...   \n",
       "1  [{'id': 10090, 'name': 'board game'}, {'id': 1...   \n",
       "2  [{'id': 1495, 'name': 'fishing'}, {'id': 12392...   \n",
       "3  [{'id': 1009, 'name': 'baby'}, {'id': 1599, 'n...   \n",
       "4  [{'id': 642, 'name': 'robbery'}, {'id': 703, '...   \n",
       "\n",
       "                                                cast  \\\n",
       "0  [{'cast_id': 14, 'character': 'Woody (voice)',...   \n",
       "1  [{'cast_id': 1, 'character': 'Alan Parrish', '...   \n",
       "2  [{'cast_id': 2, 'character': 'Max Goldman', 'c...   \n",
       "3  [{'cast_id': 1, 'character': 'George Banks', '...   \n",
       "4  [{'cast_id': 25, 'character': 'Lt. Vincent Han...   \n",
       "\n",
       "                              genre  \n",
       "0       [Animation, Comedy, Family]  \n",
       "1      [Adventure, Fantasy, Family]  \n",
       "2                 [Romance, Comedy]  \n",
       "3                          [Comedy]  \n",
       "4  [Action, Crime, Drama, Thriller]  "
      ]
     },
     "execution_count": 30,
     "metadata": {},
     "output_type": "execute_result"
    }
   ],
   "source": [
    "movies_df.head()"
   ]
  },
  {
   "cell_type": "code",
   "execution_count": 31,
   "id": "925a77ab",
   "metadata": {
    "execution": {
     "iopub.execute_input": "2022-06-17T03:46:19.012029Z",
     "iopub.status.busy": "2022-06-17T03:46:19.011626Z",
     "iopub.status.idle": "2022-06-17T03:46:19.029431Z",
     "shell.execute_reply": "2022-06-17T03:46:19.028670Z"
    },
    "papermill": {
     "duration": 0.043494,
     "end_time": "2022-06-17T03:46:19.031399",
     "exception": false,
     "start_time": "2022-06-17T03:46:18.987905",
     "status": "completed"
    },
    "tags": []
   },
   "outputs": [
    {
     "data": {
      "text/plain": [
       "id                 0\n",
       "original_title     0\n",
       "overview          35\n",
       "genres             0\n",
       "title              0\n",
       "keywords           0\n",
       "cast               0\n",
       "genre              0\n",
       "dtype: int64"
      ]
     },
     "execution_count": 31,
     "metadata": {},
     "output_type": "execute_result"
    }
   ],
   "source": [
    "movies_df.isnull().sum()"
   ]
  },
  {
   "cell_type": "code",
   "execution_count": 32,
   "id": "fdfd39fc",
   "metadata": {
    "execution": {
     "iopub.execute_input": "2022-06-17T03:46:19.079046Z",
     "iopub.status.busy": "2022-06-17T03:46:19.078360Z",
     "iopub.status.idle": "2022-06-17T03:46:19.085433Z",
     "shell.execute_reply": "2022-06-17T03:46:19.084391Z"
    },
    "papermill": {
     "duration": 0.033263,
     "end_time": "2022-06-17T03:46:19.087465",
     "exception": false,
     "start_time": "2022-06-17T03:46:19.054202",
     "status": "completed"
    },
    "tags": []
   },
   "outputs": [],
   "source": [
    "movies_df['keywords'].fillna('[]', inplace=True)"
   ]
  },
  {
   "cell_type": "code",
   "execution_count": 33,
   "id": "7ff72d23",
   "metadata": {
    "execution": {
     "iopub.execute_input": "2022-06-17T03:46:19.134238Z",
     "iopub.status.busy": "2022-06-17T03:46:19.133847Z",
     "iopub.status.idle": "2022-06-17T03:46:19.142667Z",
     "shell.execute_reply": "2022-06-17T03:46:19.141842Z"
    },
    "papermill": {
     "duration": 0.034386,
     "end_time": "2022-06-17T03:46:19.144536",
     "exception": false,
     "start_time": "2022-06-17T03:46:19.110150",
     "status": "completed"
    },
    "tags": []
   },
   "outputs": [],
   "source": [
    "movies_df['genre'] = movies_df['genre'].apply(lambda x: ' '.join(x))"
   ]
  },
  {
   "cell_type": "code",
   "execution_count": 34,
   "id": "cc80b193",
   "metadata": {
    "execution": {
     "iopub.execute_input": "2022-06-17T03:46:19.192222Z",
     "iopub.status.busy": "2022-06-17T03:46:19.191360Z",
     "iopub.status.idle": "2022-06-17T03:46:19.204287Z",
     "shell.execute_reply": "2022-06-17T03:46:19.203635Z"
    },
    "papermill": {
     "duration": 0.038829,
     "end_time": "2022-06-17T03:46:19.206055",
     "exception": false,
     "start_time": "2022-06-17T03:46:19.167226",
     "status": "completed"
    },
    "tags": []
   },
   "outputs": [
    {
     "data": {
      "text/html": [
       "<div>\n",
       "<style scoped>\n",
       "    .dataframe tbody tr th:only-of-type {\n",
       "        vertical-align: middle;\n",
       "    }\n",
       "\n",
       "    .dataframe tbody tr th {\n",
       "        vertical-align: top;\n",
       "    }\n",
       "\n",
       "    .dataframe thead th {\n",
       "        text-align: right;\n",
       "    }\n",
       "</style>\n",
       "<table border=\"1\" class=\"dataframe\">\n",
       "  <thead>\n",
       "    <tr style=\"text-align: right;\">\n",
       "      <th></th>\n",
       "      <th>id</th>\n",
       "      <th>original_title</th>\n",
       "      <th>overview</th>\n",
       "      <th>genres</th>\n",
       "      <th>title</th>\n",
       "      <th>keywords</th>\n",
       "      <th>cast</th>\n",
       "      <th>genre</th>\n",
       "    </tr>\n",
       "  </thead>\n",
       "  <tbody>\n",
       "    <tr>\n",
       "      <th>0</th>\n",
       "      <td>862</td>\n",
       "      <td>Toy Story</td>\n",
       "      <td>Led by Woody, Andy's toys live happily in his ...</td>\n",
       "      <td>[{'id': 16, 'name': 'Animation'}, {'id': 35, '...</td>\n",
       "      <td>Toy Story</td>\n",
       "      <td>[{'id': 931, 'name': 'jealousy'}, {'id': 4290,...</td>\n",
       "      <td>[{'cast_id': 14, 'character': 'Woody (voice)',...</td>\n",
       "      <td>Animation Comedy Family</td>\n",
       "    </tr>\n",
       "    <tr>\n",
       "      <th>1</th>\n",
       "      <td>8844</td>\n",
       "      <td>Jumanji</td>\n",
       "      <td>When siblings Judy and Peter discover an encha...</td>\n",
       "      <td>[{'id': 12, 'name': 'Adventure'}, {'id': 14, '...</td>\n",
       "      <td>Jumanji</td>\n",
       "      <td>[{'id': 10090, 'name': 'board game'}, {'id': 1...</td>\n",
       "      <td>[{'cast_id': 1, 'character': 'Alan Parrish', '...</td>\n",
       "      <td>Adventure Fantasy Family</td>\n",
       "    </tr>\n",
       "    <tr>\n",
       "      <th>2</th>\n",
       "      <td>15602</td>\n",
       "      <td>Grumpier Old Men</td>\n",
       "      <td>A family wedding reignites the ancient feud be...</td>\n",
       "      <td>[{'id': 10749, 'name': 'Romance'}, {'id': 35, ...</td>\n",
       "      <td>Grumpier Old Men</td>\n",
       "      <td>[{'id': 1495, 'name': 'fishing'}, {'id': 12392...</td>\n",
       "      <td>[{'cast_id': 2, 'character': 'Max Goldman', 'c...</td>\n",
       "      <td>Romance Comedy</td>\n",
       "    </tr>\n",
       "    <tr>\n",
       "      <th>3</th>\n",
       "      <td>11862</td>\n",
       "      <td>Father of the Bride Part II</td>\n",
       "      <td>Just when George Banks has recovered from his ...</td>\n",
       "      <td>[{'id': 35, 'name': 'Comedy'}]</td>\n",
       "      <td>Father of the Bride Part II</td>\n",
       "      <td>[{'id': 1009, 'name': 'baby'}, {'id': 1599, 'n...</td>\n",
       "      <td>[{'cast_id': 1, 'character': 'George Banks', '...</td>\n",
       "      <td>Comedy</td>\n",
       "    </tr>\n",
       "    <tr>\n",
       "      <th>4</th>\n",
       "      <td>949</td>\n",
       "      <td>Heat</td>\n",
       "      <td>Obsessive master thief, Neil McCauley leads a ...</td>\n",
       "      <td>[{'id': 28, 'name': 'Action'}, {'id': 80, 'nam...</td>\n",
       "      <td>Heat</td>\n",
       "      <td>[{'id': 642, 'name': 'robbery'}, {'id': 703, '...</td>\n",
       "      <td>[{'cast_id': 25, 'character': 'Lt. Vincent Han...</td>\n",
       "      <td>Action Crime Drama Thriller</td>\n",
       "    </tr>\n",
       "  </tbody>\n",
       "</table>\n",
       "</div>"
      ],
      "text/plain": [
       "      id               original_title  \\\n",
       "0    862                    Toy Story   \n",
       "1   8844                      Jumanji   \n",
       "2  15602             Grumpier Old Men   \n",
       "3  11862  Father of the Bride Part II   \n",
       "4    949                         Heat   \n",
       "\n",
       "                                            overview  \\\n",
       "0  Led by Woody, Andy's toys live happily in his ...   \n",
       "1  When siblings Judy and Peter discover an encha...   \n",
       "2  A family wedding reignites the ancient feud be...   \n",
       "3  Just when George Banks has recovered from his ...   \n",
       "4  Obsessive master thief, Neil McCauley leads a ...   \n",
       "\n",
       "                                              genres  \\\n",
       "0  [{'id': 16, 'name': 'Animation'}, {'id': 35, '...   \n",
       "1  [{'id': 12, 'name': 'Adventure'}, {'id': 14, '...   \n",
       "2  [{'id': 10749, 'name': 'Romance'}, {'id': 35, ...   \n",
       "3                     [{'id': 35, 'name': 'Comedy'}]   \n",
       "4  [{'id': 28, 'name': 'Action'}, {'id': 80, 'nam...   \n",
       "\n",
       "                         title  \\\n",
       "0                    Toy Story   \n",
       "1                      Jumanji   \n",
       "2             Grumpier Old Men   \n",
       "3  Father of the Bride Part II   \n",
       "4                         Heat   \n",
       "\n",
       "                                            keywords  \\\n",
       "0  [{'id': 931, 'name': 'jealousy'}, {'id': 4290,...   \n",
       "1  [{'id': 10090, 'name': 'board game'}, {'id': 1...   \n",
       "2  [{'id': 1495, 'name': 'fishing'}, {'id': 12392...   \n",
       "3  [{'id': 1009, 'name': 'baby'}, {'id': 1599, 'n...   \n",
       "4  [{'id': 642, 'name': 'robbery'}, {'id': 703, '...   \n",
       "\n",
       "                                                cast  \\\n",
       "0  [{'cast_id': 14, 'character': 'Woody (voice)',...   \n",
       "1  [{'cast_id': 1, 'character': 'Alan Parrish', '...   \n",
       "2  [{'cast_id': 2, 'character': 'Max Goldman', 'c...   \n",
       "3  [{'cast_id': 1, 'character': 'George Banks', '...   \n",
       "4  [{'cast_id': 25, 'character': 'Lt. Vincent Han...   \n",
       "\n",
       "                         genre  \n",
       "0      Animation Comedy Family  \n",
       "1     Adventure Fantasy Family  \n",
       "2               Romance Comedy  \n",
       "3                       Comedy  \n",
       "4  Action Crime Drama Thriller  "
      ]
     },
     "execution_count": 34,
     "metadata": {},
     "output_type": "execute_result"
    }
   ],
   "source": [
    "movies_df.head()"
   ]
  },
  {
   "cell_type": "code",
   "execution_count": 35,
   "id": "decd72be",
   "metadata": {
    "execution": {
     "iopub.execute_input": "2022-06-17T03:46:19.254175Z",
     "iopub.status.busy": "2022-06-17T03:46:19.253230Z",
     "iopub.status.idle": "2022-06-17T03:46:19.261811Z",
     "shell.execute_reply": "2022-06-17T03:46:19.261140Z"
    },
    "papermill": {
     "duration": 0.034768,
     "end_time": "2022-06-17T03:46:19.263722",
     "exception": false,
     "start_time": "2022-06-17T03:46:19.228954",
     "status": "completed"
    },
    "tags": []
   },
   "outputs": [],
   "source": [
    "movies_df.drop('genres', axis=1, inplace=True)"
   ]
  },
  {
   "cell_type": "code",
   "execution_count": 36,
   "id": "179491ba",
   "metadata": {
    "execution": {
     "iopub.execute_input": "2022-06-17T03:46:19.311621Z",
     "iopub.status.busy": "2022-06-17T03:46:19.310688Z",
     "iopub.status.idle": "2022-06-17T03:46:19.323322Z",
     "shell.execute_reply": "2022-06-17T03:46:19.322422Z"
    },
    "papermill": {
     "duration": 0.038315,
     "end_time": "2022-06-17T03:46:19.325227",
     "exception": false,
     "start_time": "2022-06-17T03:46:19.286912",
     "status": "completed"
    },
    "tags": []
   },
   "outputs": [
    {
     "data": {
      "text/html": [
       "<div>\n",
       "<style scoped>\n",
       "    .dataframe tbody tr th:only-of-type {\n",
       "        vertical-align: middle;\n",
       "    }\n",
       "\n",
       "    .dataframe tbody tr th {\n",
       "        vertical-align: top;\n",
       "    }\n",
       "\n",
       "    .dataframe thead th {\n",
       "        text-align: right;\n",
       "    }\n",
       "</style>\n",
       "<table border=\"1\" class=\"dataframe\">\n",
       "  <thead>\n",
       "    <tr style=\"text-align: right;\">\n",
       "      <th></th>\n",
       "      <th>id</th>\n",
       "      <th>original_title</th>\n",
       "      <th>overview</th>\n",
       "      <th>title</th>\n",
       "      <th>keywords</th>\n",
       "      <th>cast</th>\n",
       "      <th>genre</th>\n",
       "    </tr>\n",
       "  </thead>\n",
       "  <tbody>\n",
       "    <tr>\n",
       "      <th>0</th>\n",
       "      <td>862</td>\n",
       "      <td>Toy Story</td>\n",
       "      <td>Led by Woody, Andy's toys live happily in his ...</td>\n",
       "      <td>Toy Story</td>\n",
       "      <td>[{'id': 931, 'name': 'jealousy'}, {'id': 4290,...</td>\n",
       "      <td>[{'cast_id': 14, 'character': 'Woody (voice)',...</td>\n",
       "      <td>Animation Comedy Family</td>\n",
       "    </tr>\n",
       "    <tr>\n",
       "      <th>1</th>\n",
       "      <td>8844</td>\n",
       "      <td>Jumanji</td>\n",
       "      <td>When siblings Judy and Peter discover an encha...</td>\n",
       "      <td>Jumanji</td>\n",
       "      <td>[{'id': 10090, 'name': 'board game'}, {'id': 1...</td>\n",
       "      <td>[{'cast_id': 1, 'character': 'Alan Parrish', '...</td>\n",
       "      <td>Adventure Fantasy Family</td>\n",
       "    </tr>\n",
       "    <tr>\n",
       "      <th>2</th>\n",
       "      <td>15602</td>\n",
       "      <td>Grumpier Old Men</td>\n",
       "      <td>A family wedding reignites the ancient feud be...</td>\n",
       "      <td>Grumpier Old Men</td>\n",
       "      <td>[{'id': 1495, 'name': 'fishing'}, {'id': 12392...</td>\n",
       "      <td>[{'cast_id': 2, 'character': 'Max Goldman', 'c...</td>\n",
       "      <td>Romance Comedy</td>\n",
       "    </tr>\n",
       "    <tr>\n",
       "      <th>3</th>\n",
       "      <td>11862</td>\n",
       "      <td>Father of the Bride Part II</td>\n",
       "      <td>Just when George Banks has recovered from his ...</td>\n",
       "      <td>Father of the Bride Part II</td>\n",
       "      <td>[{'id': 1009, 'name': 'baby'}, {'id': 1599, 'n...</td>\n",
       "      <td>[{'cast_id': 1, 'character': 'George Banks', '...</td>\n",
       "      <td>Comedy</td>\n",
       "    </tr>\n",
       "    <tr>\n",
       "      <th>4</th>\n",
       "      <td>949</td>\n",
       "      <td>Heat</td>\n",
       "      <td>Obsessive master thief, Neil McCauley leads a ...</td>\n",
       "      <td>Heat</td>\n",
       "      <td>[{'id': 642, 'name': 'robbery'}, {'id': 703, '...</td>\n",
       "      <td>[{'cast_id': 25, 'character': 'Lt. Vincent Han...</td>\n",
       "      <td>Action Crime Drama Thriller</td>\n",
       "    </tr>\n",
       "  </tbody>\n",
       "</table>\n",
       "</div>"
      ],
      "text/plain": [
       "      id               original_title  \\\n",
       "0    862                    Toy Story   \n",
       "1   8844                      Jumanji   \n",
       "2  15602             Grumpier Old Men   \n",
       "3  11862  Father of the Bride Part II   \n",
       "4    949                         Heat   \n",
       "\n",
       "                                            overview  \\\n",
       "0  Led by Woody, Andy's toys live happily in his ...   \n",
       "1  When siblings Judy and Peter discover an encha...   \n",
       "2  A family wedding reignites the ancient feud be...   \n",
       "3  Just when George Banks has recovered from his ...   \n",
       "4  Obsessive master thief, Neil McCauley leads a ...   \n",
       "\n",
       "                         title  \\\n",
       "0                    Toy Story   \n",
       "1                      Jumanji   \n",
       "2             Grumpier Old Men   \n",
       "3  Father of the Bride Part II   \n",
       "4                         Heat   \n",
       "\n",
       "                                            keywords  \\\n",
       "0  [{'id': 931, 'name': 'jealousy'}, {'id': 4290,...   \n",
       "1  [{'id': 10090, 'name': 'board game'}, {'id': 1...   \n",
       "2  [{'id': 1495, 'name': 'fishing'}, {'id': 12392...   \n",
       "3  [{'id': 1009, 'name': 'baby'}, {'id': 1599, 'n...   \n",
       "4  [{'id': 642, 'name': 'robbery'}, {'id': 703, '...   \n",
       "\n",
       "                                                cast  \\\n",
       "0  [{'cast_id': 14, 'character': 'Woody (voice)',...   \n",
       "1  [{'cast_id': 1, 'character': 'Alan Parrish', '...   \n",
       "2  [{'cast_id': 2, 'character': 'Max Goldman', 'c...   \n",
       "3  [{'cast_id': 1, 'character': 'George Banks', '...   \n",
       "4  [{'cast_id': 25, 'character': 'Lt. Vincent Han...   \n",
       "\n",
       "                         genre  \n",
       "0      Animation Comedy Family  \n",
       "1     Adventure Fantasy Family  \n",
       "2               Romance Comedy  \n",
       "3                       Comedy  \n",
       "4  Action Crime Drama Thriller  "
      ]
     },
     "execution_count": 36,
     "metadata": {},
     "output_type": "execute_result"
    }
   ],
   "source": [
    "movies_df.head()"
   ]
  },
  {
   "cell_type": "code",
   "execution_count": 37,
   "id": "4fcf4729",
   "metadata": {
    "execution": {
     "iopub.execute_input": "2022-06-17T03:46:19.373536Z",
     "iopub.status.busy": "2022-06-17T03:46:19.372717Z",
     "iopub.status.idle": "2022-06-17T03:46:24.143693Z",
     "shell.execute_reply": "2022-06-17T03:46:24.142664Z"
    },
    "papermill": {
     "duration": 4.797785,
     "end_time": "2022-06-17T03:46:24.146115",
     "exception": false,
     "start_time": "2022-06-17T03:46:19.348330",
     "status": "completed"
    },
    "tags": []
   },
   "outputs": [],
   "source": [
    "movies_df['cast'] = movies_df['cast'].apply(lambda x: [i['name'] for i in eval(x)])\n",
    "movies_df['cast'] = movies_df['cast'].apply(lambda x: ' '.join([i.replace(\" \", \"\") for i in x]))"
   ]
  },
  {
   "cell_type": "code",
   "execution_count": 38,
   "id": "55a58bf1",
   "metadata": {
    "execution": {
     "iopub.execute_input": "2022-06-17T03:46:24.194632Z",
     "iopub.status.busy": "2022-06-17T03:46:24.194067Z",
     "iopub.status.idle": "2022-06-17T03:46:24.863227Z",
     "shell.execute_reply": "2022-06-17T03:46:24.862151Z"
    },
    "papermill": {
     "duration": 0.696431,
     "end_time": "2022-06-17T03:46:24.865699",
     "exception": false,
     "start_time": "2022-06-17T03:46:24.169268",
     "status": "completed"
    },
    "tags": []
   },
   "outputs": [],
   "source": [
    "movies_df['keywords'] = movies_df['keywords'].apply(lambda x: [i['name'] for i in eval(x)])\n",
    "movies_df['keywords'] = movies_df['keywords'].apply(lambda x: ' '.join([i.replace(\" \", \"\") for i in x]))"
   ]
  },
  {
   "cell_type": "code",
   "execution_count": 39,
   "id": "5a0c71f8",
   "metadata": {
    "execution": {
     "iopub.execute_input": "2022-06-17T03:46:24.914054Z",
     "iopub.status.busy": "2022-06-17T03:46:24.913623Z",
     "iopub.status.idle": "2022-06-17T03:46:24.927110Z",
     "shell.execute_reply": "2022-06-17T03:46:24.926284Z"
    },
    "papermill": {
     "duration": 0.039707,
     "end_time": "2022-06-17T03:46:24.929069",
     "exception": false,
     "start_time": "2022-06-17T03:46:24.889362",
     "status": "completed"
    },
    "tags": []
   },
   "outputs": [
    {
     "data": {
      "text/html": [
       "<div>\n",
       "<style scoped>\n",
       "    .dataframe tbody tr th:only-of-type {\n",
       "        vertical-align: middle;\n",
       "    }\n",
       "\n",
       "    .dataframe tbody tr th {\n",
       "        vertical-align: top;\n",
       "    }\n",
       "\n",
       "    .dataframe thead th {\n",
       "        text-align: right;\n",
       "    }\n",
       "</style>\n",
       "<table border=\"1\" class=\"dataframe\">\n",
       "  <thead>\n",
       "    <tr style=\"text-align: right;\">\n",
       "      <th></th>\n",
       "      <th>id</th>\n",
       "      <th>original_title</th>\n",
       "      <th>overview</th>\n",
       "      <th>title</th>\n",
       "      <th>keywords</th>\n",
       "      <th>cast</th>\n",
       "      <th>genre</th>\n",
       "    </tr>\n",
       "  </thead>\n",
       "  <tbody>\n",
       "    <tr>\n",
       "      <th>0</th>\n",
       "      <td>862</td>\n",
       "      <td>Toy Story</td>\n",
       "      <td>Led by Woody, Andy's toys live happily in his ...</td>\n",
       "      <td>Toy Story</td>\n",
       "      <td>jealousy toy boy friendship friends rivalry bo...</td>\n",
       "      <td>TomHanks TimAllen DonRickles JimVarney Wallace...</td>\n",
       "      <td>Animation Comedy Family</td>\n",
       "    </tr>\n",
       "    <tr>\n",
       "      <th>1</th>\n",
       "      <td>8844</td>\n",
       "      <td>Jumanji</td>\n",
       "      <td>When siblings Judy and Peter discover an encha...</td>\n",
       "      <td>Jumanji</td>\n",
       "      <td>boardgame disappearance basedonchildren'sbook ...</td>\n",
       "      <td>RobinWilliams JonathanHyde KirstenDunst Bradle...</td>\n",
       "      <td>Adventure Fantasy Family</td>\n",
       "    </tr>\n",
       "    <tr>\n",
       "      <th>2</th>\n",
       "      <td>15602</td>\n",
       "      <td>Grumpier Old Men</td>\n",
       "      <td>A family wedding reignites the ancient feud be...</td>\n",
       "      <td>Grumpier Old Men</td>\n",
       "      <td>fishing bestfriend duringcreditsstinger oldmen</td>\n",
       "      <td>WalterMatthau JackLemmon Ann-Margret SophiaLor...</td>\n",
       "      <td>Romance Comedy</td>\n",
       "    </tr>\n",
       "    <tr>\n",
       "      <th>3</th>\n",
       "      <td>11862</td>\n",
       "      <td>Father of the Bride Part II</td>\n",
       "      <td>Just when George Banks has recovered from his ...</td>\n",
       "      <td>Father of the Bride Part II</td>\n",
       "      <td>baby midlifecrisis confidence aging daughter m...</td>\n",
       "      <td>SteveMartin DianeKeaton MartinShort KimberlyWi...</td>\n",
       "      <td>Comedy</td>\n",
       "    </tr>\n",
       "    <tr>\n",
       "      <th>4</th>\n",
       "      <td>949</td>\n",
       "      <td>Heat</td>\n",
       "      <td>Obsessive master thief, Neil McCauley leads a ...</td>\n",
       "      <td>Heat</td>\n",
       "      <td>robbery detective bank obsession chase shootin...</td>\n",
       "      <td>AlPacino RobertDeNiro ValKilmer JonVoight TomS...</td>\n",
       "      <td>Action Crime Drama Thriller</td>\n",
       "    </tr>\n",
       "  </tbody>\n",
       "</table>\n",
       "</div>"
      ],
      "text/plain": [
       "      id               original_title  \\\n",
       "0    862                    Toy Story   \n",
       "1   8844                      Jumanji   \n",
       "2  15602             Grumpier Old Men   \n",
       "3  11862  Father of the Bride Part II   \n",
       "4    949                         Heat   \n",
       "\n",
       "                                            overview  \\\n",
       "0  Led by Woody, Andy's toys live happily in his ...   \n",
       "1  When siblings Judy and Peter discover an encha...   \n",
       "2  A family wedding reignites the ancient feud be...   \n",
       "3  Just when George Banks has recovered from his ...   \n",
       "4  Obsessive master thief, Neil McCauley leads a ...   \n",
       "\n",
       "                         title  \\\n",
       "0                    Toy Story   \n",
       "1                      Jumanji   \n",
       "2             Grumpier Old Men   \n",
       "3  Father of the Bride Part II   \n",
       "4                         Heat   \n",
       "\n",
       "                                            keywords  \\\n",
       "0  jealousy toy boy friendship friends rivalry bo...   \n",
       "1  boardgame disappearance basedonchildren'sbook ...   \n",
       "2     fishing bestfriend duringcreditsstinger oldmen   \n",
       "3  baby midlifecrisis confidence aging daughter m...   \n",
       "4  robbery detective bank obsession chase shootin...   \n",
       "\n",
       "                                                cast  \\\n",
       "0  TomHanks TimAllen DonRickles JimVarney Wallace...   \n",
       "1  RobinWilliams JonathanHyde KirstenDunst Bradle...   \n",
       "2  WalterMatthau JackLemmon Ann-Margret SophiaLor...   \n",
       "3  SteveMartin DianeKeaton MartinShort KimberlyWi...   \n",
       "4  AlPacino RobertDeNiro ValKilmer JonVoight TomS...   \n",
       "\n",
       "                         genre  \n",
       "0      Animation Comedy Family  \n",
       "1     Adventure Fantasy Family  \n",
       "2               Romance Comedy  \n",
       "3                       Comedy  \n",
       "4  Action Crime Drama Thriller  "
      ]
     },
     "execution_count": 39,
     "metadata": {},
     "output_type": "execute_result"
    }
   ],
   "source": [
    "movies_df.head()"
   ]
  },
  {
   "cell_type": "code",
   "execution_count": 40,
   "id": "234146ce",
   "metadata": {
    "execution": {
     "iopub.execute_input": "2022-06-17T03:46:24.977379Z",
     "iopub.status.busy": "2022-06-17T03:46:24.976746Z",
     "iopub.status.idle": "2022-06-17T03:46:25.052833Z",
     "shell.execute_reply": "2022-06-17T03:46:25.051712Z"
    },
    "papermill": {
     "duration": 0.102937,
     "end_time": "2022-06-17T03:46:25.055221",
     "exception": false,
     "start_time": "2022-06-17T03:46:24.952284",
     "status": "completed"
    },
    "tags": []
   },
   "outputs": [],
   "source": [
    "movies_df['tags'] = movies_df['overview']+' '+movies_df['keywords']+' '+movies_df['cast']+' '+movies_df['genre']+' '+movies_df['original_title']"
   ]
  },
  {
   "cell_type": "code",
   "execution_count": 41,
   "id": "d3cfcbcd",
   "metadata": {
    "execution": {
     "iopub.execute_input": "2022-06-17T03:46:25.103833Z",
     "iopub.status.busy": "2022-06-17T03:46:25.103428Z",
     "iopub.status.idle": "2022-06-17T03:46:25.110692Z",
     "shell.execute_reply": "2022-06-17T03:46:25.110016Z"
    },
    "papermill": {
     "duration": 0.033527,
     "end_time": "2022-06-17T03:46:25.112428",
     "exception": false,
     "start_time": "2022-06-17T03:46:25.078901",
     "status": "completed"
    },
    "tags": []
   },
   "outputs": [
    {
     "data": {
      "text/plain": [
       "0       Led by Woody, Andy's toys live happily in his ...\n",
       "1       When siblings Judy and Peter discover an encha...\n",
       "2       A family wedding reignites the ancient feud be...\n",
       "3       Just when George Banks has recovered from his ...\n",
       "4       Obsessive master thief, Neil McCauley leads a ...\n",
       "                              ...                        \n",
       "8765    Jean-Étienne Fougerole is an intellectual bohe...\n",
       "8766    Stuck in the corridors of time, Godefroy de Mo...\n",
       "8767    On the 100th anniversary of the original voyag...\n",
       "8768    A closeted boy runs the risk of being outed by...\n",
       "8769    Hyperactive teenager Kelly is enrolled into a ...\n",
       "Name: tags, Length: 8770, dtype: object"
      ]
     },
     "execution_count": 41,
     "metadata": {},
     "output_type": "execute_result"
    }
   ],
   "source": [
    "movies_df['tags']"
   ]
  },
  {
   "cell_type": "code",
   "execution_count": 42,
   "id": "900466ff",
   "metadata": {
    "execution": {
     "iopub.execute_input": "2022-06-17T03:46:25.161108Z",
     "iopub.status.busy": "2022-06-17T03:46:25.160633Z",
     "iopub.status.idle": "2022-06-17T03:46:25.169861Z",
     "shell.execute_reply": "2022-06-17T03:46:25.168975Z"
    },
    "papermill": {
     "duration": 0.036223,
     "end_time": "2022-06-17T03:46:25.171972",
     "exception": false,
     "start_time": "2022-06-17T03:46:25.135749",
     "status": "completed"
    },
    "tags": []
   },
   "outputs": [],
   "source": [
    "movies_df.drop(['genre', 'original_title', 'keywords', 'cast', 'overview'], axis=1, inplace=True)"
   ]
  },
  {
   "cell_type": "code",
   "execution_count": 43,
   "id": "8afbefc5",
   "metadata": {
    "execution": {
     "iopub.execute_input": "2022-06-17T03:46:25.221037Z",
     "iopub.status.busy": "2022-06-17T03:46:25.220284Z",
     "iopub.status.idle": "2022-06-17T03:46:25.230658Z",
     "shell.execute_reply": "2022-06-17T03:46:25.229793Z"
    },
    "papermill": {
     "duration": 0.037255,
     "end_time": "2022-06-17T03:46:25.232804",
     "exception": false,
     "start_time": "2022-06-17T03:46:25.195549",
     "status": "completed"
    },
    "tags": []
   },
   "outputs": [
    {
     "data": {
      "text/html": [
       "<div>\n",
       "<style scoped>\n",
       "    .dataframe tbody tr th:only-of-type {\n",
       "        vertical-align: middle;\n",
       "    }\n",
       "\n",
       "    .dataframe tbody tr th {\n",
       "        vertical-align: top;\n",
       "    }\n",
       "\n",
       "    .dataframe thead th {\n",
       "        text-align: right;\n",
       "    }\n",
       "</style>\n",
       "<table border=\"1\" class=\"dataframe\">\n",
       "  <thead>\n",
       "    <tr style=\"text-align: right;\">\n",
       "      <th></th>\n",
       "      <th>id</th>\n",
       "      <th>title</th>\n",
       "      <th>tags</th>\n",
       "    </tr>\n",
       "  </thead>\n",
       "  <tbody>\n",
       "    <tr>\n",
       "      <th>0</th>\n",
       "      <td>862</td>\n",
       "      <td>Toy Story</td>\n",
       "      <td>Led by Woody, Andy's toys live happily in his ...</td>\n",
       "    </tr>\n",
       "    <tr>\n",
       "      <th>1</th>\n",
       "      <td>8844</td>\n",
       "      <td>Jumanji</td>\n",
       "      <td>When siblings Judy and Peter discover an encha...</td>\n",
       "    </tr>\n",
       "    <tr>\n",
       "      <th>2</th>\n",
       "      <td>15602</td>\n",
       "      <td>Grumpier Old Men</td>\n",
       "      <td>A family wedding reignites the ancient feud be...</td>\n",
       "    </tr>\n",
       "    <tr>\n",
       "      <th>3</th>\n",
       "      <td>11862</td>\n",
       "      <td>Father of the Bride Part II</td>\n",
       "      <td>Just when George Banks has recovered from his ...</td>\n",
       "    </tr>\n",
       "    <tr>\n",
       "      <th>4</th>\n",
       "      <td>949</td>\n",
       "      <td>Heat</td>\n",
       "      <td>Obsessive master thief, Neil McCauley leads a ...</td>\n",
       "    </tr>\n",
       "  </tbody>\n",
       "</table>\n",
       "</div>"
      ],
      "text/plain": [
       "      id                        title  \\\n",
       "0    862                    Toy Story   \n",
       "1   8844                      Jumanji   \n",
       "2  15602             Grumpier Old Men   \n",
       "3  11862  Father of the Bride Part II   \n",
       "4    949                         Heat   \n",
       "\n",
       "                                                tags  \n",
       "0  Led by Woody, Andy's toys live happily in his ...  \n",
       "1  When siblings Judy and Peter discover an encha...  \n",
       "2  A family wedding reignites the ancient feud be...  \n",
       "3  Just when George Banks has recovered from his ...  \n",
       "4  Obsessive master thief, Neil McCauley leads a ...  "
      ]
     },
     "execution_count": 43,
     "metadata": {},
     "output_type": "execute_result"
    }
   ],
   "source": [
    "movies_df.head()"
   ]
  },
  {
   "cell_type": "code",
   "execution_count": 44,
   "id": "ed66c1a5",
   "metadata": {
    "execution": {
     "iopub.execute_input": "2022-06-17T03:46:25.289117Z",
     "iopub.status.busy": "2022-06-17T03:46:25.288631Z",
     "iopub.status.idle": "2022-06-17T03:46:25.301448Z",
     "shell.execute_reply": "2022-06-17T03:46:25.300650Z"
    },
    "papermill": {
     "duration": 0.044775,
     "end_time": "2022-06-17T03:46:25.304075",
     "exception": false,
     "start_time": "2022-06-17T03:46:25.259300",
     "status": "completed"
    },
    "tags": []
   },
   "outputs": [
    {
     "data": {
      "text/plain": [
       "id        0\n",
       "title     0\n",
       "tags     35\n",
       "dtype: int64"
      ]
     },
     "execution_count": 44,
     "metadata": {},
     "output_type": "execute_result"
    }
   ],
   "source": [
    "movies_df.isnull().sum()"
   ]
  },
  {
   "cell_type": "code",
   "execution_count": 45,
   "id": "99613478",
   "metadata": {
    "execution": {
     "iopub.execute_input": "2022-06-17T03:46:25.354992Z",
     "iopub.status.busy": "2022-06-17T03:46:25.354606Z",
     "iopub.status.idle": "2022-06-17T03:46:25.363898Z",
     "shell.execute_reply": "2022-06-17T03:46:25.363151Z"
    },
    "papermill": {
     "duration": 0.036862,
     "end_time": "2022-06-17T03:46:25.365914",
     "exception": false,
     "start_time": "2022-06-17T03:46:25.329052",
     "status": "completed"
    },
    "tags": []
   },
   "outputs": [],
   "source": [
    "movies_df.drop(movies_df[movies_df['tags'].isnull()].index, inplace=True)"
   ]
  },
  {
   "cell_type": "code",
   "execution_count": 46,
   "id": "241c9180",
   "metadata": {
    "execution": {
     "iopub.execute_input": "2022-06-17T03:46:25.416159Z",
     "iopub.status.busy": "2022-06-17T03:46:25.415005Z",
     "iopub.status.idle": "2022-06-17T03:46:25.421431Z",
     "shell.execute_reply": "2022-06-17T03:46:25.420766Z"
    },
    "papermill": {
     "duration": 0.033356,
     "end_time": "2022-06-17T03:46:25.423325",
     "exception": false,
     "start_time": "2022-06-17T03:46:25.389969",
     "status": "completed"
    },
    "tags": []
   },
   "outputs": [
    {
     "data": {
      "text/plain": [
       "(8735, 3)"
      ]
     },
     "execution_count": 46,
     "metadata": {},
     "output_type": "execute_result"
    }
   ],
   "source": [
    "movies_df.shape"
   ]
  },
  {
   "cell_type": "code",
   "execution_count": 47,
   "id": "fa8dfcf0",
   "metadata": {
    "execution": {
     "iopub.execute_input": "2022-06-17T03:46:25.473146Z",
     "iopub.status.busy": "2022-06-17T03:46:25.472755Z",
     "iopub.status.idle": "2022-06-17T03:46:25.505907Z",
     "shell.execute_reply": "2022-06-17T03:46:25.504960Z"
    },
    "papermill": {
     "duration": 0.06049,
     "end_time": "2022-06-17T03:46:25.508269",
     "exception": false,
     "start_time": "2022-06-17T03:46:25.447779",
     "status": "completed"
    },
    "tags": []
   },
   "outputs": [],
   "source": [
    "movies_df.drop_duplicates(inplace=True)"
   ]
  },
  {
   "cell_type": "code",
   "execution_count": 48,
   "id": "c55cd85d",
   "metadata": {
    "execution": {
     "iopub.execute_input": "2022-06-17T03:46:25.557603Z",
     "iopub.status.busy": "2022-06-17T03:46:25.557248Z",
     "iopub.status.idle": "2022-06-17T03:46:25.562105Z",
     "shell.execute_reply": "2022-06-17T03:46:25.561412Z"
    },
    "papermill": {
     "duration": 0.032015,
     "end_time": "2022-06-17T03:46:25.564098",
     "exception": false,
     "start_time": "2022-06-17T03:46:25.532083",
     "status": "completed"
    },
    "tags": []
   },
   "outputs": [
    {
     "data": {
      "text/plain": [
       "(8595, 3)"
      ]
     },
     "execution_count": 48,
     "metadata": {},
     "output_type": "execute_result"
    }
   ],
   "source": [
    "movies_df.shape"
   ]
  },
  {
   "cell_type": "markdown",
   "id": "bc86805e",
   "metadata": {
    "papermill": {
     "duration": 0.02352,
     "end_time": "2022-06-17T03:46:25.611419",
     "exception": false,
     "start_time": "2022-06-17T03:46:25.587899",
     "status": "completed"
    },
    "tags": []
   },
   "source": [
    "## Vectorizing Data"
   ]
  },
  {
   "cell_type": "code",
   "execution_count": 49,
   "id": "bbdc149c",
   "metadata": {
    "execution": {
     "iopub.execute_input": "2022-06-17T03:46:25.660997Z",
     "iopub.status.busy": "2022-06-17T03:46:25.660313Z",
     "iopub.status.idle": "2022-06-17T03:46:25.815225Z",
     "shell.execute_reply": "2022-06-17T03:46:25.814181Z"
    },
    "papermill": {
     "duration": 0.182373,
     "end_time": "2022-06-17T03:46:25.817573",
     "exception": false,
     "start_time": "2022-06-17T03:46:25.635200",
     "status": "completed"
    },
    "tags": []
   },
   "outputs": [],
   "source": [
    "from sklearn.feature_extraction.text import TfidfVectorizer"
   ]
  },
  {
   "cell_type": "code",
   "execution_count": 50,
   "id": "bb9ef957",
   "metadata": {
    "execution": {
     "iopub.execute_input": "2022-06-17T03:46:25.867751Z",
     "iopub.status.busy": "2022-06-17T03:46:25.867075Z",
     "iopub.status.idle": "2022-06-17T03:46:25.871713Z",
     "shell.execute_reply": "2022-06-17T03:46:25.871073Z"
    },
    "papermill": {
     "duration": 0.031823,
     "end_time": "2022-06-17T03:46:25.873587",
     "exception": false,
     "start_time": "2022-06-17T03:46:25.841764",
     "status": "completed"
    },
    "tags": []
   },
   "outputs": [],
   "source": [
    "# Common words have less IDF\n",
    "# Unique Words have high IDF\n",
    "tfidf = TfidfVectorizer(max_features=5000)"
   ]
  },
  {
   "cell_type": "code",
   "execution_count": 51,
   "id": "09a99529",
   "metadata": {
    "execution": {
     "iopub.execute_input": "2022-06-17T03:46:25.923102Z",
     "iopub.status.busy": "2022-06-17T03:46:25.922461Z",
     "iopub.status.idle": "2022-06-17T03:46:27.409066Z",
     "shell.execute_reply": "2022-06-17T03:46:27.408189Z"
    },
    "papermill": {
     "duration": 1.514135,
     "end_time": "2022-06-17T03:46:27.411481",
     "exception": false,
     "start_time": "2022-06-17T03:46:25.897346",
     "status": "completed"
    },
    "tags": []
   },
   "outputs": [],
   "source": [
    "vectorized_data = tfidf.fit_transform(movies_df['tags'].values)"
   ]
  },
  {
   "cell_type": "code",
   "execution_count": 52,
   "id": "11518f33",
   "metadata": {
    "execution": {
     "iopub.execute_input": "2022-06-17T03:46:27.462702Z",
     "iopub.status.busy": "2022-06-17T03:46:27.462142Z",
     "iopub.status.idle": "2022-06-17T03:46:27.473766Z",
     "shell.execute_reply": "2022-06-17T03:46:27.472850Z"
    },
    "papermill": {
     "duration": 0.039048,
     "end_time": "2022-06-17T03:46:27.475738",
     "exception": false,
     "start_time": "2022-06-17T03:46:27.436690",
     "status": "completed"
    },
    "tags": []
   },
   "outputs": [
    {
     "data": {
      "text/plain": [
       "array(['000', '10', '100', ..., 'zooeydeschanel', 'zoëkravitz',\n",
       "       'моррисчестнат'], dtype=object)"
      ]
     },
     "execution_count": 52,
     "metadata": {},
     "output_type": "execute_result"
    }
   ],
   "source": [
    "tfidf.get_feature_names_out()"
   ]
  },
  {
   "cell_type": "code",
   "execution_count": 53,
   "id": "c87cb2bb",
   "metadata": {
    "execution": {
     "iopub.execute_input": "2022-06-17T03:46:27.526615Z",
     "iopub.status.busy": "2022-06-17T03:46:27.526050Z",
     "iopub.status.idle": "2022-06-17T03:46:27.969538Z",
     "shell.execute_reply": "2022-06-17T03:46:27.968414Z"
    },
    "papermill": {
     "duration": 0.471964,
     "end_time": "2022-06-17T03:46:27.972154",
     "exception": false,
     "start_time": "2022-06-17T03:46:27.500190",
     "status": "completed"
    },
    "tags": []
   },
   "outputs": [],
   "source": [
    "vectorized_dataframe = pd.DataFrame(vectorized_data.toarray(), index=movies_df['tags'].index.tolist())"
   ]
  },
  {
   "cell_type": "code",
   "execution_count": 54,
   "id": "044007d4",
   "metadata": {
    "execution": {
     "iopub.execute_input": "2022-06-17T03:46:28.022995Z",
     "iopub.status.busy": "2022-06-17T03:46:28.022439Z",
     "iopub.status.idle": "2022-06-17T03:46:28.053200Z",
     "shell.execute_reply": "2022-06-17T03:46:28.052204Z"
    },
    "papermill": {
     "duration": 0.05856,
     "end_time": "2022-06-17T03:46:28.055233",
     "exception": false,
     "start_time": "2022-06-17T03:46:27.996673",
     "status": "completed"
    },
    "tags": []
   },
   "outputs": [
    {
     "data": {
      "text/html": [
       "<div>\n",
       "<style scoped>\n",
       "    .dataframe tbody tr th:only-of-type {\n",
       "        vertical-align: middle;\n",
       "    }\n",
       "\n",
       "    .dataframe tbody tr th {\n",
       "        vertical-align: top;\n",
       "    }\n",
       "\n",
       "    .dataframe thead th {\n",
       "        text-align: right;\n",
       "    }\n",
       "</style>\n",
       "<table border=\"1\" class=\"dataframe\">\n",
       "  <thead>\n",
       "    <tr style=\"text-align: right;\">\n",
       "      <th></th>\n",
       "      <th>0</th>\n",
       "      <th>1</th>\n",
       "      <th>2</th>\n",
       "      <th>3</th>\n",
       "      <th>4</th>\n",
       "      <th>5</th>\n",
       "      <th>6</th>\n",
       "      <th>7</th>\n",
       "      <th>8</th>\n",
       "      <th>9</th>\n",
       "      <th>...</th>\n",
       "      <th>4990</th>\n",
       "      <th>4991</th>\n",
       "      <th>4992</th>\n",
       "      <th>4993</th>\n",
       "      <th>4994</th>\n",
       "      <th>4995</th>\n",
       "      <th>4996</th>\n",
       "      <th>4997</th>\n",
       "      <th>4998</th>\n",
       "      <th>4999</th>\n",
       "    </tr>\n",
       "  </thead>\n",
       "  <tbody>\n",
       "    <tr>\n",
       "      <th>0</th>\n",
       "      <td>0.0</td>\n",
       "      <td>0.0</td>\n",
       "      <td>0.0</td>\n",
       "      <td>0.0</td>\n",
       "      <td>0.0</td>\n",
       "      <td>0.0</td>\n",
       "      <td>0.0</td>\n",
       "      <td>0.0</td>\n",
       "      <td>0.0</td>\n",
       "      <td>0.0</td>\n",
       "      <td>...</td>\n",
       "      <td>0.0</td>\n",
       "      <td>0.0</td>\n",
       "      <td>0.0</td>\n",
       "      <td>0.0</td>\n",
       "      <td>0.0</td>\n",
       "      <td>0.0</td>\n",
       "      <td>0.0</td>\n",
       "      <td>0.0</td>\n",
       "      <td>0.0</td>\n",
       "      <td>0.0</td>\n",
       "    </tr>\n",
       "    <tr>\n",
       "      <th>1</th>\n",
       "      <td>0.0</td>\n",
       "      <td>0.0</td>\n",
       "      <td>0.0</td>\n",
       "      <td>0.0</td>\n",
       "      <td>0.0</td>\n",
       "      <td>0.0</td>\n",
       "      <td>0.0</td>\n",
       "      <td>0.0</td>\n",
       "      <td>0.0</td>\n",
       "      <td>0.0</td>\n",
       "      <td>...</td>\n",
       "      <td>0.0</td>\n",
       "      <td>0.0</td>\n",
       "      <td>0.0</td>\n",
       "      <td>0.0</td>\n",
       "      <td>0.0</td>\n",
       "      <td>0.0</td>\n",
       "      <td>0.0</td>\n",
       "      <td>0.0</td>\n",
       "      <td>0.0</td>\n",
       "      <td>0.0</td>\n",
       "    </tr>\n",
       "    <tr>\n",
       "      <th>2</th>\n",
       "      <td>0.0</td>\n",
       "      <td>0.0</td>\n",
       "      <td>0.0</td>\n",
       "      <td>0.0</td>\n",
       "      <td>0.0</td>\n",
       "      <td>0.0</td>\n",
       "      <td>0.0</td>\n",
       "      <td>0.0</td>\n",
       "      <td>0.0</td>\n",
       "      <td>0.0</td>\n",
       "      <td>...</td>\n",
       "      <td>0.0</td>\n",
       "      <td>0.0</td>\n",
       "      <td>0.0</td>\n",
       "      <td>0.0</td>\n",
       "      <td>0.0</td>\n",
       "      <td>0.0</td>\n",
       "      <td>0.0</td>\n",
       "      <td>0.0</td>\n",
       "      <td>0.0</td>\n",
       "      <td>0.0</td>\n",
       "    </tr>\n",
       "    <tr>\n",
       "      <th>3</th>\n",
       "      <td>0.0</td>\n",
       "      <td>0.0</td>\n",
       "      <td>0.0</td>\n",
       "      <td>0.0</td>\n",
       "      <td>0.0</td>\n",
       "      <td>0.0</td>\n",
       "      <td>0.0</td>\n",
       "      <td>0.0</td>\n",
       "      <td>0.0</td>\n",
       "      <td>0.0</td>\n",
       "      <td>...</td>\n",
       "      <td>0.0</td>\n",
       "      <td>0.0</td>\n",
       "      <td>0.0</td>\n",
       "      <td>0.0</td>\n",
       "      <td>0.0</td>\n",
       "      <td>0.0</td>\n",
       "      <td>0.0</td>\n",
       "      <td>0.0</td>\n",
       "      <td>0.0</td>\n",
       "      <td>0.0</td>\n",
       "    </tr>\n",
       "    <tr>\n",
       "      <th>4</th>\n",
       "      <td>0.0</td>\n",
       "      <td>0.0</td>\n",
       "      <td>0.0</td>\n",
       "      <td>0.0</td>\n",
       "      <td>0.0</td>\n",
       "      <td>0.0</td>\n",
       "      <td>0.0</td>\n",
       "      <td>0.0</td>\n",
       "      <td>0.0</td>\n",
       "      <td>0.0</td>\n",
       "      <td>...</td>\n",
       "      <td>0.0</td>\n",
       "      <td>0.0</td>\n",
       "      <td>0.0</td>\n",
       "      <td>0.0</td>\n",
       "      <td>0.0</td>\n",
       "      <td>0.0</td>\n",
       "      <td>0.0</td>\n",
       "      <td>0.0</td>\n",
       "      <td>0.0</td>\n",
       "      <td>0.0</td>\n",
       "    </tr>\n",
       "  </tbody>\n",
       "</table>\n",
       "<p>5 rows × 5000 columns</p>\n",
       "</div>"
      ],
      "text/plain": [
       "   0     1     2     3     4     5     6     7     8     9     ...  4990  \\\n",
       "0   0.0   0.0   0.0   0.0   0.0   0.0   0.0   0.0   0.0   0.0  ...   0.0   \n",
       "1   0.0   0.0   0.0   0.0   0.0   0.0   0.0   0.0   0.0   0.0  ...   0.0   \n",
       "2   0.0   0.0   0.0   0.0   0.0   0.0   0.0   0.0   0.0   0.0  ...   0.0   \n",
       "3   0.0   0.0   0.0   0.0   0.0   0.0   0.0   0.0   0.0   0.0  ...   0.0   \n",
       "4   0.0   0.0   0.0   0.0   0.0   0.0   0.0   0.0   0.0   0.0  ...   0.0   \n",
       "\n",
       "   4991  4992  4993  4994  4995  4996  4997  4998  4999  \n",
       "0   0.0   0.0   0.0   0.0   0.0   0.0   0.0   0.0   0.0  \n",
       "1   0.0   0.0   0.0   0.0   0.0   0.0   0.0   0.0   0.0  \n",
       "2   0.0   0.0   0.0   0.0   0.0   0.0   0.0   0.0   0.0  \n",
       "3   0.0   0.0   0.0   0.0   0.0   0.0   0.0   0.0   0.0  \n",
       "4   0.0   0.0   0.0   0.0   0.0   0.0   0.0   0.0   0.0  \n",
       "\n",
       "[5 rows x 5000 columns]"
      ]
     },
     "execution_count": 54,
     "metadata": {},
     "output_type": "execute_result"
    }
   ],
   "source": [
    "vectorized_dataframe.head()"
   ]
  },
  {
   "cell_type": "code",
   "execution_count": 55,
   "id": "dd41f5c8",
   "metadata": {
    "execution": {
     "iopub.execute_input": "2022-06-17T03:46:28.108950Z",
     "iopub.status.busy": "2022-06-17T03:46:28.108382Z",
     "iopub.status.idle": "2022-06-17T03:46:28.115054Z",
     "shell.execute_reply": "2022-06-17T03:46:28.113984Z"
    },
    "papermill": {
     "duration": 0.035507,
     "end_time": "2022-06-17T03:46:28.117242",
     "exception": false,
     "start_time": "2022-06-17T03:46:28.081735",
     "status": "completed"
    },
    "tags": []
   },
   "outputs": [
    {
     "data": {
      "text/plain": [
       "(8595, 5000)"
      ]
     },
     "execution_count": 55,
     "metadata": {},
     "output_type": "execute_result"
    }
   ],
   "source": [
    "vectorized_dataframe.shape"
   ]
  },
  {
   "cell_type": "markdown",
   "id": "0236d85d",
   "metadata": {
    "papermill": {
     "duration": 0.024421,
     "end_time": "2022-06-17T03:46:28.166695",
     "exception": false,
     "start_time": "2022-06-17T03:46:28.142274",
     "status": "completed"
    },
    "tags": []
   },
   "source": [
    "## Dimensionality Reduction"
   ]
  },
  {
   "cell_type": "code",
   "execution_count": 56,
   "id": "9536f2e1",
   "metadata": {
    "execution": {
     "iopub.execute_input": "2022-06-17T03:46:28.218787Z",
     "iopub.status.busy": "2022-06-17T03:46:28.218391Z",
     "iopub.status.idle": "2022-06-17T03:46:28.384979Z",
     "shell.execute_reply": "2022-06-17T03:46:28.384161Z"
    },
    "papermill": {
     "duration": 0.195913,
     "end_time": "2022-06-17T03:46:28.387364",
     "exception": false,
     "start_time": "2022-06-17T03:46:28.191451",
     "status": "completed"
    },
    "tags": []
   },
   "outputs": [],
   "source": [
    "from sklearn.decomposition import TruncatedSVD"
   ]
  },
  {
   "cell_type": "code",
   "execution_count": 57,
   "id": "6e4700e7",
   "metadata": {
    "execution": {
     "iopub.execute_input": "2022-06-17T03:46:28.439283Z",
     "iopub.status.busy": "2022-06-17T03:46:28.438484Z",
     "iopub.status.idle": "2022-06-17T03:48:10.973863Z",
     "shell.execute_reply": "2022-06-17T03:48:10.971931Z"
    },
    "papermill": {
     "duration": 102.566452,
     "end_time": "2022-06-17T03:48:10.978964",
     "exception": false,
     "start_time": "2022-06-17T03:46:28.412512",
     "status": "completed"
    },
    "tags": []
   },
   "outputs": [],
   "source": [
    "svd = TruncatedSVD(n_components=3000)\n",
    "\n",
    "reduced_data = svd.fit_transform(vectorized_dataframe)"
   ]
  },
  {
   "cell_type": "code",
   "execution_count": 58,
   "id": "3282b2ad",
   "metadata": {
    "execution": {
     "iopub.execute_input": "2022-06-17T03:48:11.035840Z",
     "iopub.status.busy": "2022-06-17T03:48:11.034429Z",
     "iopub.status.idle": "2022-06-17T03:48:11.042940Z",
     "shell.execute_reply": "2022-06-17T03:48:11.042214Z"
    },
    "papermill": {
     "duration": 0.037715,
     "end_time": "2022-06-17T03:48:11.045114",
     "exception": false,
     "start_time": "2022-06-17T03:48:11.007399",
     "status": "completed"
    },
    "tags": []
   },
   "outputs": [
    {
     "data": {
      "text/plain": [
       "(8595, 3000)"
      ]
     },
     "execution_count": 58,
     "metadata": {},
     "output_type": "execute_result"
    }
   ],
   "source": [
    "reduced_data.shape"
   ]
  },
  {
   "cell_type": "code",
   "execution_count": 59,
   "id": "d0582ea0",
   "metadata": {
    "execution": {
     "iopub.execute_input": "2022-06-17T03:48:11.097778Z",
     "iopub.status.busy": "2022-06-17T03:48:11.096888Z",
     "iopub.status.idle": "2022-06-17T03:48:11.103479Z",
     "shell.execute_reply": "2022-06-17T03:48:11.102823Z"
    },
    "papermill": {
     "duration": 0.034849,
     "end_time": "2022-06-17T03:48:11.105356",
     "exception": false,
     "start_time": "2022-06-17T03:48:11.070507",
     "status": "completed"
    },
    "tags": []
   },
   "outputs": [
    {
     "data": {
      "text/plain": [
       "array([[ 0.13900296, -0.01969929,  0.0116269 , ..., -0.00164375,\n",
       "         0.00085834,  0.00386047],\n",
       "       [ 0.21230902, -0.03566003, -0.04595553, ...,  0.0069606 ,\n",
       "         0.00845041, -0.00320097],\n",
       "       [ 0.19579362,  0.09450106, -0.03902779, ...,  0.00353127,\n",
       "        -0.00615326, -0.00292472],\n",
       "       ...,\n",
       "       [ 0.21651775, -0.09988946, -0.08065869, ..., -0.00326333,\n",
       "         0.00131573, -0.01865802],\n",
       "       [ 0.27890952, -0.02118181,  0.1128755 , ..., -0.00841783,\n",
       "        -0.00185236,  0.00713303],\n",
       "       [ 0.19719254,  0.16488791, -0.05136824, ..., -0.00208556,\n",
       "         0.0014894 ,  0.00070659]])"
      ]
     },
     "execution_count": 59,
     "metadata": {},
     "output_type": "execute_result"
    }
   ],
   "source": [
    "reduced_data"
   ]
  },
  {
   "cell_type": "code",
   "execution_count": 60,
   "id": "a0668e7d",
   "metadata": {
    "execution": {
     "iopub.execute_input": "2022-06-17T03:48:11.157110Z",
     "iopub.status.busy": "2022-06-17T03:48:11.156403Z",
     "iopub.status.idle": "2022-06-17T03:48:11.162447Z",
     "shell.execute_reply": "2022-06-17T03:48:11.161833Z"
    },
    "papermill": {
     "duration": 0.033822,
     "end_time": "2022-06-17T03:48:11.164214",
     "exception": false,
     "start_time": "2022-06-17T03:48:11.130392",
     "status": "completed"
    },
    "tags": []
   },
   "outputs": [
    {
     "data": {
      "text/plain": [
       "array([0.00470896, 0.01167374, 0.01736822, ..., 0.92189002, 0.92196284,\n",
       "       0.92203564])"
      ]
     },
     "execution_count": 60,
     "metadata": {},
     "output_type": "execute_result"
    }
   ],
   "source": [
    "svd.explained_variance_ratio_.cumsum()"
   ]
  },
  {
   "cell_type": "markdown",
   "id": "aef7e448",
   "metadata": {
    "papermill": {
     "duration": 0.024822,
     "end_time": "2022-06-17T03:48:11.214276",
     "exception": false,
     "start_time": "2022-06-17T03:48:11.189454",
     "status": "completed"
    },
    "tags": []
   },
   "source": [
    "## Finally Making Recomendations"
   ]
  },
  {
   "cell_type": "code",
   "execution_count": 61,
   "id": "2b5a5cf0",
   "metadata": {
    "execution": {
     "iopub.execute_input": "2022-06-17T03:48:11.266096Z",
     "iopub.status.busy": "2022-06-17T03:48:11.265212Z",
     "iopub.status.idle": "2022-06-17T03:48:11.270020Z",
     "shell.execute_reply": "2022-06-17T03:48:11.269332Z"
    },
    "papermill": {
     "duration": 0.032588,
     "end_time": "2022-06-17T03:48:11.271852",
     "exception": false,
     "start_time": "2022-06-17T03:48:11.239264",
     "status": "completed"
    },
    "tags": []
   },
   "outputs": [],
   "source": [
    "from sklearn.metrics.pairwise import cosine_similarity"
   ]
  },
  {
   "cell_type": "code",
   "execution_count": 62,
   "id": "26f9ccf9",
   "metadata": {
    "execution": {
     "iopub.execute_input": "2022-06-17T03:48:11.325020Z",
     "iopub.status.busy": "2022-06-17T03:48:11.324451Z",
     "iopub.status.idle": "2022-06-17T03:48:15.266613Z",
     "shell.execute_reply": "2022-06-17T03:48:15.265690Z"
    },
    "papermill": {
     "duration": 3.970985,
     "end_time": "2022-06-17T03:48:15.269184",
     "exception": false,
     "start_time": "2022-06-17T03:48:11.298199",
     "status": "completed"
    },
    "tags": []
   },
   "outputs": [],
   "source": [
    "similarity = cosine_similarity(reduced_data)"
   ]
  },
  {
   "cell_type": "code",
   "execution_count": 63,
   "id": "726f62b9",
   "metadata": {
    "execution": {
     "iopub.execute_input": "2022-06-17T03:48:15.322640Z",
     "iopub.status.busy": "2022-06-17T03:48:15.321606Z",
     "iopub.status.idle": "2022-06-17T03:48:15.328402Z",
     "shell.execute_reply": "2022-06-17T03:48:15.327784Z"
    },
    "papermill": {
     "duration": 0.035056,
     "end_time": "2022-06-17T03:48:15.330077",
     "exception": false,
     "start_time": "2022-06-17T03:48:15.295021",
     "status": "completed"
    },
    "tags": []
   },
   "outputs": [
    {
     "data": {
      "text/plain": [
       "array([[1.        , 0.04436397, 0.02295072, ..., 0.0212567 , 0.12793364,\n",
       "        0.03352001],\n",
       "       [0.04436397, 1.        , 0.07614691, ..., 0.04974354, 0.02082831,\n",
       "        0.0373596 ],\n",
       "       [0.02295072, 0.07614691, 1.        , ..., 0.03635152, 0.04079996,\n",
       "        0.10090827],\n",
       "       ...,\n",
       "       [0.0212567 , 0.04974354, 0.03635152, ..., 1.        , 0.03878796,\n",
       "        0.05070743],\n",
       "       [0.12793364, 0.02082831, 0.04079996, ..., 0.03878796, 1.        ,\n",
       "        0.07445035],\n",
       "       [0.03352001, 0.0373596 , 0.10090827, ..., 0.05070743, 0.07445035,\n",
       "        1.        ]])"
      ]
     },
     "execution_count": 63,
     "metadata": {},
     "output_type": "execute_result"
    }
   ],
   "source": [
    "similarity"
   ]
  },
  {
   "cell_type": "code",
   "execution_count": 64,
   "id": "8d1e4c3c",
   "metadata": {
    "execution": {
     "iopub.execute_input": "2022-06-17T03:48:15.382872Z",
     "iopub.status.busy": "2022-06-17T03:48:15.382268Z",
     "iopub.status.idle": "2022-06-17T03:48:15.388144Z",
     "shell.execute_reply": "2022-06-17T03:48:15.387444Z"
    },
    "papermill": {
     "duration": 0.034381,
     "end_time": "2022-06-17T03:48:15.390102",
     "exception": false,
     "start_time": "2022-06-17T03:48:15.355721",
     "status": "completed"
    },
    "tags": []
   },
   "outputs": [],
   "source": [
    "def recomendation_system(movie):\n",
    "    id_of_movie = movies_df[movies_df['title']==movie].index[0]\n",
    "    distances = similarity[id_of_movie]\n",
    "    movie_list = sorted(list(enumerate(distances)), reverse=True, key=lambda x:x[1])[1:15]\n",
    "    for movie_id in movie_list:\n",
    "        print(movies_df.iloc[movie_id[0]].title)"
   ]
  },
  {
   "cell_type": "code",
   "execution_count": 65,
   "id": "de41e457",
   "metadata": {
    "execution": {
     "iopub.execute_input": "2022-06-17T03:48:15.442491Z",
     "iopub.status.busy": "2022-06-17T03:48:15.441797Z",
     "iopub.status.idle": "2022-06-17T03:48:15.466144Z",
     "shell.execute_reply": "2022-06-17T03:48:15.465276Z"
    },
    "papermill": {
     "duration": 0.053306,
     "end_time": "2022-06-17T03:48:15.468699",
     "exception": false,
     "start_time": "2022-06-17T03:48:15.415393",
     "status": "completed"
    },
    "tags": []
   },
   "outputs": [
    {
     "name": "stdout",
     "output_type": "stream",
     "text": [
      "The Matrix Revisited\n",
      "The Matrix Revolutions\n",
      "The Matrix Reloaded\n",
      "The Animatrix\n",
      "Commando\n",
      "Terminator 3: Rise of the Machines\n",
      "GHOST IN THE SHELL\n",
      "Hackers\n",
      "Who Am I - Kein System ist sicher\n",
      "The Zero Theorem\n",
      "Tron\n",
      "Demon Seed\n",
      "サマーウォーズ\n",
      "Terminator Salvation\n"
     ]
    }
   ],
   "source": [
    "recomendation_system('The Matrix')"
   ]
  },
  {
   "cell_type": "code",
   "execution_count": 66,
   "id": "cad7e9a0",
   "metadata": {
    "execution": {
     "iopub.execute_input": "2022-06-17T03:48:15.522399Z",
     "iopub.status.busy": "2022-06-17T03:48:15.521975Z",
     "iopub.status.idle": "2022-06-17T03:48:15.541691Z",
     "shell.execute_reply": "2022-06-17T03:48:15.540411Z"
    },
    "papermill": {
     "duration": 0.048235,
     "end_time": "2022-06-17T03:48:15.543611",
     "exception": false,
     "start_time": "2022-06-17T03:48:15.495376",
     "status": "completed"
    },
    "tags": []
   },
   "outputs": [
    {
     "name": "stdout",
     "output_type": "stream",
     "text": [
      "Brainscan\n",
      "Wreck-It Ralph\n",
      "Stay Alive\n",
      "Geri's Game\n",
      "Alan Partridge: Alpha Papa\n",
      "Dungeons & Dragons\n",
      "Nirvana\n",
      "Indie Game: The Movie\n",
      "Jack the Giant Slayer\n",
      "Nerve\n",
      "Panic Room\n",
      "Beyond the Gates\n",
      "Game Change\n",
      "Fantastic Beasts and Where to Find Them\n"
     ]
    }
   ],
   "source": [
    "recomendation_system('Jumanji')"
   ]
  },
  {
   "cell_type": "code",
   "execution_count": 67,
   "id": "213e508e",
   "metadata": {
    "execution": {
     "iopub.execute_input": "2022-06-17T03:48:15.596521Z",
     "iopub.status.busy": "2022-06-17T03:48:15.595666Z",
     "iopub.status.idle": "2022-06-17T03:48:15.614739Z",
     "shell.execute_reply": "2022-06-17T03:48:15.613394Z"
    },
    "papermill": {
     "duration": 0.047859,
     "end_time": "2022-06-17T03:48:15.616978",
     "exception": false,
     "start_time": "2022-06-17T03:48:15.569119",
     "status": "completed"
    },
    "tags": []
   },
   "outputs": [
    {
     "name": "stdout",
     "output_type": "stream",
     "text": [
      "Lucky You\n",
      "Last Vegas\n",
      "Vegas Vacation\n",
      "Fear and Loathing in Las Vegas\n",
      "The Godfather: Part II\n",
      "La mafia uccide solo d'estate\n",
      "Mississippi Grind\n",
      "The Cincinnati Kid\n",
      "Wild Card\n",
      "Leaving Las Vegas\n",
      "Suburra\n",
      "Lay the Favorite\n",
      "Runner Runner\n",
      "Ocean's Eleven\n"
     ]
    }
   ],
   "source": [
    "recomendation_system('Casino')"
   ]
  },
  {
   "cell_type": "markdown",
   "id": "359afa4f",
   "metadata": {
    "papermill": {
     "duration": 0.025462,
     "end_time": "2022-06-17T03:48:15.667835",
     "exception": false,
     "start_time": "2022-06-17T03:48:15.642373",
     "status": "completed"
    },
    "tags": []
   },
   "source": [
    "`Content Based Recomendation System by Muhammad Hanan Asghar`"
   ]
  }
 ],
 "metadata": {
  "kernelspec": {
   "display_name": "Python 3",
   "language": "python",
   "name": "python3"
  },
  "language_info": {
   "codemirror_mode": {
    "name": "ipython",
    "version": 3
   },
   "file_extension": ".py",
   "mimetype": "text/x-python",
   "name": "python",
   "nbconvert_exporter": "python",
   "pygments_lexer": "ipython3",
   "version": "3.7.12"
  },
  "papermill": {
   "default_parameters": {},
   "duration": 138.367213,
   "end_time": "2022-06-17T03:48:16.817485",
   "environment_variables": {},
   "exception": null,
   "input_path": "__notebook__.ipynb",
   "output_path": "__notebook__.ipynb",
   "parameters": {},
   "start_time": "2022-06-17T03:45:58.450272",
   "version": "2.3.4"
  }
 },
 "nbformat": 4,
 "nbformat_minor": 5
}
